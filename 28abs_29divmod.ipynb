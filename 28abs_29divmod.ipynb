{
  "nbformat": 4,
  "nbformat_minor": 0,
  "metadata": {
    "colab": {
      "provenance": [],
      "authorship_tag": "ABX9TyNp94XGAV4ggtv758au2Q6n",
      "include_colab_link": true
    },
    "kernelspec": {
      "name": "python3",
      "display_name": "Python 3"
    },
    "language_info": {
      "name": "python"
    }
  },
  "cells": [
    {
      "cell_type": "markdown",
      "metadata": {
        "id": "view-in-github",
        "colab_type": "text"
      },
      "source": [
        "<a href=\"https://colab.research.google.com/github/ppug15510-jpg/Exercise_2025/blob/main/28abs_29divmod.ipynb\" target=\"_parent\"><img src=\"https://colab.research.google.com/assets/colab-badge.svg\" alt=\"Open In Colab\"/></a>"
      ]
    },
    {
      "cell_type": "code",
      "execution_count": 3,
      "metadata": {
        "colab": {
          "base_uri": "https://localhost:8080/"
        },
        "id": "3UJpDKsXpHfE",
        "outputId": "6680ca34-dadb-4d53-fa08-690a177c676b"
      },
      "outputs": [
        {
          "output_type": "stream",
          "name": "stdout",
          "text": [
            "8\n",
            "3.14\n",
            "5.0\n"
          ]
        }
      ],
      "source": [
        "#028 절대값 구하기: abs()\n",
        "intData = -8\n",
        "floatData = 3.14\n",
        "complexData = 3 + 4j\n",
        "print(abs(intData))\n",
        "print(abs(floatData))\n",
        "print(abs((complexData)))"
      ]
    },
    {
      "cell_type": "code",
      "source": [
        "#029 몫과 나머지 구하기: divmod()\n",
        "x = 11113\n",
        "y = 23\n",
        "ret1 = x//y\n",
        "ret2 = x%y\n",
        "print(f'{x}을(를) {y}(으)로 나누면 몫이 {ret1}, 나머지가 {ret2}입니다.')"
      ],
      "metadata": {
        "colab": {
          "base_uri": "https://localhost:8080/"
        },
        "id": "i4uhJ5QltfTD",
        "outputId": "bf4ab207-b2e0-41f1-f595-b238459cd0ed"
      },
      "execution_count": 5,
      "outputs": [
        {
          "output_type": "stream",
          "name": "stdout",
          "text": [
            "11113을(를) 23(으)로 나누면 몫이 483, 나머지가 4입니다.\n"
          ]
        }
      ]
    },
    {
      "cell_type": "code",
      "source": [
        "x = 11113\n",
        "y = 23\n",
        "ret1, ret2 = divmod(x,y)\n",
        "print(f'{x}을(를) {y}(으)로 나누면 몫이 {ret1}, 나머지가 {ret2}입니다.')"
      ],
      "metadata": {
        "colab": {
          "base_uri": "https://localhost:8080/"
        },
        "id": "8scRro5xuOiE",
        "outputId": "01b9abf2-ea16-4c2a-b779-a08df569c6f4"
      },
      "execution_count": 6,
      "outputs": [
        {
          "output_type": "stream",
          "name": "stdout",
          "text": [
            "11113을(를) 23(으)로 나누면 몫이 483, 나머지가 4입니다.\n"
          ]
        }
      ]
    }
  ]
}