{
  "nbformat": 4,
  "nbformat_minor": 0,
  "metadata": {
    "colab": {
      "provenance": [],
      "authorship_tag": "ABX9TyNoa0oVIDAxTrvR4mLlX9Hk",
      "include_colab_link": true
    },
    "kernelspec": {
      "name": "python3",
      "display_name": "Python 3"
    },
    "language_info": {
      "name": "python"
    }
  },
  "cells": [
    {
      "cell_type": "markdown",
      "metadata": {
        "id": "view-in-github",
        "colab_type": "text"
      },
      "source": [
        "<a href=\"https://colab.research.google.com/github/ppug15510-jpg/Exercise_2025/blob/main/24logical_25bitwise.ipynb\" target=\"_parent\"><img src=\"https://colab.research.google.com/assets/colab-badge.svg\" alt=\"Open In Colab\"/></a>"
      ]
    },
    {
      "cell_type": "code",
      "execution_count": 1,
      "metadata": {
        "colab": {
          "base_uri": "https://localhost:8080/"
        },
        "id": "FtwAfBWei4hF",
        "outputId": "8dd369bc-7c78-4e1d-bdba-b8bb6caab978"
      },
      "outputs": [
        {
          "output_type": "stream",
          "name": "stdout",
          "text": [
            "False\n",
            "True\n",
            "True\n",
            "False\n",
            "True\n",
            "False\n"
          ]
        }
      ],
      "source": [
        "#024 논리연산자: and, or, not\n",
        "x = 1; y = 2\n",
        "strData1 = 'Hello'; strData2 = 'python'\n",
        "flag1 = x == y #False\n",
        "flag2 = x < y #True\n",
        "flag3 = strData1 != strData2 #True\n",
        "flag4 = strData1 > strData2 #False\n",
        "\n",
        "print(flag1 and flag2)\n",
        "print(flag2 and flag3)\n",
        "print(flag3 or flag4)\n",
        "print(flag1 or flag4)\n",
        "print(not flag1)\n",
        "print(not flag2)"
      ]
    },
    {
      "cell_type": "code",
      "source": [
        "#025 비트연산자: &, |, ^, >>, <<\n",
        "bit1 = 0x61; bit2 = 0x62\n",
        "print(hex(bit & bit2)) #0x60이 출력됨\n",
        "print(hex(bit1 | bit2)) #0x63이 출력됨\n",
        "print(hex(bit1 ^ bit2)) #0x3이 출력됨\n",
        "print(hex(bit1 >> 1)) #0x30이 출력됨\n",
        "print(hex(bit1 << 2)) #0x184가 출력됨"
      ],
      "metadata": {
        "id": "nDXiEsW2k7PC"
      },
      "execution_count": null,
      "outputs": []
    },
    {
      "cell_type": "code",
      "source": [
        "byte1 = 0x6b\n",
        "\n",
        "#하위 4비트 추출\n",
        "lower_4bit = byte1 & 0x0f\n",
        "\n",
        "#상위 4비트 추출\n",
        "upper_4bit = (byte1 >> 4) & 0x0f\n",
        "\n",
        "print(hex(lower_4bit))\n",
        "print(hex(upper_4bit))"
      ],
      "metadata": {
        "colab": {
          "base_uri": "https://localhost:8080/"
        },
        "id": "j_9dFDrPmfD6",
        "outputId": "7e791590-93eb-4b88-8176-4ac21de65fe7"
      },
      "execution_count": 3,
      "outputs": [
        {
          "output_type": "stream",
          "name": "stdout",
          "text": [
            "0xb\n",
            "0x6\n"
          ]
        }
      ]
    }
  ]
}