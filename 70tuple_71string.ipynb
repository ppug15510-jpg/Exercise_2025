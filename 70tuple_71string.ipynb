{
  "nbformat": 4,
  "nbformat_minor": 0,
  "metadata": {
    "colab": {
      "provenance": [],
      "authorship_tag": "ABX9TyM3l1l9tHLSiWiALi2PfEDb",
      "include_colab_link": true
    },
    "kernelspec": {
      "name": "python3",
      "display_name": "Python 3"
    },
    "language_info": {
      "name": "python"
    }
  },
  "cells": [
    {
      "cell_type": "markdown",
      "metadata": {
        "id": "view-in-github",
        "colab_type": "text"
      },
      "source": [
        "<a href=\"https://colab.research.google.com/github/ppug15510-jpg/Exercise_2025/blob/main/70tuple_71string.ipynb\" target=\"_parent\"><img src=\"https://colab.research.google.com/assets/colab-badge.svg\" alt=\"Open In Colab\"/></a>"
      ]
    },
    {
      "cell_type": "code",
      "execution_count": 1,
      "metadata": {
        "colab": {
          "base_uri": "https://localhost:8080/"
        },
        "id": "O5ABhbqzVe4r",
        "outputId": "b5441280-5b1d-47d4-ad64-20e6d9a5e520"
      },
      "outputs": [
        {
          "output_type": "stream",
          "name": "stdout",
          "text": [
            "(1, 'two', '셋')\n"
          ]
        }
      ],
      "source": [
        "#070 튜플 이해하기\n",
        "tupleData = 1,'two','셋'\n",
        "print(tupleData)"
      ]
    },
    {
      "cell_type": "code",
      "source": [
        "tupleData = (1,'two','셋')\n",
        "print(tupleData)"
      ],
      "metadata": {
        "colab": {
          "base_uri": "https://localhost:8080/"
        },
        "id": "ynTfeDj-V5Lk",
        "outputId": "eebc3c0e-b40b-4749-c0b9-3e985805c00f"
      },
      "execution_count": 2,
      "outputs": [
        {
          "output_type": "stream",
          "name": "stdout",
          "text": [
            "(1, 'two', '셋')\n"
          ]
        }
      ]
    },
    {
      "cell_type": "code",
      "source": [
        "x,y,z = tupleData\n",
        "print(f'x={x},y={y},z={z}')"
      ],
      "metadata": {
        "colab": {
          "base_uri": "https://localhost:8080/"
        },
        "id": "y282TdCpWCes",
        "outputId": "294ec9a4-16f9-4fe5-e529-d16ef4fa9ffc"
      },
      "execution_count": 3,
      "outputs": [
        {
          "output_type": "stream",
          "name": "stdout",
          "text": [
            "x=1,y=two,z=셋\n"
          ]
        }
      ]
    },
    {
      "cell_type": "code",
      "source": [
        "tupleData = (0,1,2,3,4)\n",
        "tupleData[3] = 'Three'"
      ],
      "metadata": {
        "colab": {
          "base_uri": "https://localhost:8080/",
          "height": 166
        },
        "id": "FuVc_LOEWWpq",
        "outputId": "c47f6740-b4d8-428f-cddf-43125a1b46f9"
      },
      "execution_count": 4,
      "outputs": [
        {
          "output_type": "error",
          "ename": "TypeError",
          "evalue": "'tuple' object does not support item assignment",
          "traceback": [
            "\u001b[0;31m---------------------------------------------------------------------------\u001b[0m",
            "\u001b[0;31mTypeError\u001b[0m                                 Traceback (most recent call last)",
            "\u001b[0;32m/tmp/ipython-input-3668647258.py\u001b[0m in \u001b[0;36m<cell line: 0>\u001b[0;34m()\u001b[0m\n\u001b[1;32m      1\u001b[0m \u001b[0mtupleData\u001b[0m \u001b[0;34m=\u001b[0m \u001b[0;34m(\u001b[0m\u001b[0;36m0\u001b[0m\u001b[0;34m,\u001b[0m\u001b[0;36m1\u001b[0m\u001b[0;34m,\u001b[0m\u001b[0;36m2\u001b[0m\u001b[0;34m,\u001b[0m\u001b[0;36m3\u001b[0m\u001b[0;34m,\u001b[0m\u001b[0;36m4\u001b[0m\u001b[0;34m)\u001b[0m\u001b[0;34m\u001b[0m\u001b[0;34m\u001b[0m\u001b[0m\n\u001b[0;32m----> 2\u001b[0;31m \u001b[0mtupleData\u001b[0m\u001b[0;34m[\u001b[0m\u001b[0;36m3\u001b[0m\u001b[0;34m]\u001b[0m \u001b[0;34m=\u001b[0m \u001b[0;34m'Three'\u001b[0m\u001b[0;34m\u001b[0m\u001b[0;34m\u001b[0m\u001b[0m\n\u001b[0m",
            "\u001b[0;31mTypeError\u001b[0m: 'tuple' object does not support item assignment"
          ]
        }
      ]
    },
    {
      "cell_type": "code",
      "source": [
        "#071 문자열(String) 객체\n",
        "strData1 = '안녕하세요'\n",
        "strData2 = '작은따옴표는 \"큰따옴표\"를 포함하는 문자열이 가능합니다.'\n",
        "print(strData1)\n",
        "print(strData2)"
      ],
      "metadata": {
        "colab": {
          "base_uri": "https://localhost:8080/"
        },
        "id": "hKMNUaixWh63",
        "outputId": "9ba1618f-5d20-4b65-a2ce-b992211d287d"
      },
      "execution_count": 5,
      "outputs": [
        {
          "output_type": "stream",
          "name": "stdout",
          "text": [
            "안녕하세요\n",
            "작은따옴표는 \"큰따옴표\"를 포함하는 문자열이 가능합니다.\n"
          ]
        }
      ]
    },
    {
      "cell_type": "code",
      "source": [
        "strData3 = \"안녕하세요\"\n",
        "strData4 = \"큰따옴표는 '작은따옴표'를 포함하는 문자열이 가능합니다.\"\n",
        "print(strData3)\n",
        "print(strData4)"
      ],
      "metadata": {
        "colab": {
          "base_uri": "https://localhost:8080/"
        },
        "id": "RQFeGm1HW9R_",
        "outputId": "2c059098-321e-40ea-b033-68c5437ea613"
      },
      "execution_count": 6,
      "outputs": [
        {
          "output_type": "stream",
          "name": "stdout",
          "text": [
            "안녕하세요\n",
            "큰따옴표는 '작은따옴표'를 포함하는 문자열이 가능합니다.\n"
          ]
        }
      ]
    },
    {
      "cell_type": "code",
      "source": [
        "strData5 = '''3중 작은따옴표는\n",
        "        여러 줄에 걸친 문자열이 가능합니다.'''\n",
        "print(strData5)"
      ],
      "metadata": {
        "colab": {
          "base_uri": "https://localhost:8080/"
        },
        "id": "QzJswxYsXQ-F",
        "outputId": "cfdc62bb-25c9-44d7-a694-5306e60ca97d"
      },
      "execution_count": 11,
      "outputs": [
        {
          "output_type": "stream",
          "name": "stdout",
          "text": [
            "3중 작은따옴표는\n",
            "        여러 줄에 걸친 문자열이 가능합니다.\n"
          ]
        }
      ]
    },
    {
      "cell_type": "code",
      "source": [
        "strData6 = \"\"\"3중 큰따옴표 역시\n",
        "여러 줄에 걸친 문자열이 가능합니다.\"\"\"\n",
        "print(strData6)"
      ],
      "metadata": {
        "colab": {
          "base_uri": "https://localhost:8080/"
        },
        "id": "uO0kPqwGXmpL",
        "outputId": "ce2a8b5a-a8fd-40bb-bc70-46c9cbeb4592"
      },
      "execution_count": 12,
      "outputs": [
        {
          "output_type": "stream",
          "name": "stdout",
          "text": [
            "3중 큰따옴표 역시\n",
            "여러 줄에 걸친 문자열이 가능합니다.\n"
          ]
        }
      ]
    },
    {
      "cell_type": "code",
      "source": [
        "while ret != None:\n",
        "  \"\"\"print(f'큐에서 데이터 추출:{ret}')\n",
        "  print(f'큐상태:{myqueue}')\n",
        "  print('----------------')\"\"\" #여러 줄의 주석처리 예\n",
        "  ret = popData()"
      ],
      "metadata": {
        "id": "lJlGvHHJXzSj"
      },
      "execution_count": null,
      "outputs": []
    }
  ]
}