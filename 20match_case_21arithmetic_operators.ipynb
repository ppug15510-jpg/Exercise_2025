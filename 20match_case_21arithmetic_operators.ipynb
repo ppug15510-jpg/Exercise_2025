{
  "nbformat": 4,
  "nbformat_minor": 0,
  "metadata": {
    "colab": {
      "provenance": [],
      "authorship_tag": "ABX9TyP9wdByYccNnzW3BAOZQrQ1",
      "include_colab_link": true
    },
    "kernelspec": {
      "name": "python3",
      "display_name": "Python 3"
    },
    "language_info": {
      "name": "python"
    }
  },
  "cells": [
    {
      "cell_type": "markdown",
      "metadata": {
        "id": "view-in-github",
        "colab_type": "text"
      },
      "source": [
        "<a href=\"https://colab.research.google.com/github/ppug15510-jpg/Exercise_2025/blob/main/20match_case_21arithmetic_operators.ipynb\" target=\"_parent\"><img src=\"https://colab.research.google.com/assets/colab-badge.svg\" alt=\"Open In Colab\"/></a>"
      ]
    },
    {
      "cell_type": "code",
      "execution_count": 1,
      "metadata": {
        "colab": {
          "base_uri": "https://localhost:8080/"
        },
        "id": "NuTTubZBvlaq",
        "outputId": "b51cd3c5-7986-4f3d-cb54-e1c8ce9c2e98"
      },
      "outputs": [
        {
          "output_type": "stream",
          "name": "stdout",
          "text": [
            "Bad Request\n"
          ]
        }
      ],
      "source": [
        "#020 match문: match~case\n",
        "http_status = 400\n",
        "match http_status:\n",
        "  case 400:\n",
        "    print('Bad Request')\n",
        "  case 401:\n",
        "    print('Unauthorized')\n",
        "  case 403:\n",
        "    print('Forbidden')\n",
        "  case 404:\n",
        "    print('Not Found')\n",
        "  case _:\n",
        "    print('기타 인터넷 문제로 뭔가 잘못됨')"
      ]
    },
    {
      "cell_type": "code",
      "source": [
        "http_status = 302\n",
        "match http_status:\n",
        "  case 200|201|203:\n",
        "    print('Success')\n",
        "  case 301|302|303:\n",
        "    print('Redirection')\n",
        "  case 400|401|403|404:\n",
        "    print('Client Errors')\n",
        "  case _:\n",
        "    print('기타 HTTP 응답 코드')"
      ],
      "metadata": {
        "colab": {
          "base_uri": "https://localhost:8080/"
        },
        "id": "qrgvdfXhxqhA",
        "outputId": "c481008d-c763-4e6b-a30a-b69d7a71e697"
      },
      "execution_count": 2,
      "outputs": [
        {
          "output_type": "stream",
          "name": "stdout",
          "text": [
            "Redirection\n"
          ]
        }
      ]
    },
    {
      "cell_type": "code",
      "source": [
        "point = (0,0)\n",
        "#point = (1,0)\n",
        "#point = (0,1)\n",
        "#point = (1,1)\n",
        "match point:\n",
        "  case (0,0):\n",
        "    print('원점 좌표')\n",
        "  case (x,0):\n",
        "    print(f'x축 위의 점이며 x의 값은 {x}')\n",
        "  case (0,y):\n",
        "    print(f'y축 위의 점이며 x의 값은 {y}')\n",
        "  case (x,y):\n",
        "    print(f'(x,y) = ({x},{y})')\n",
        "  case _:\n",
        "    print('오류: 2차원 좌표가 아님')"
      ],
      "metadata": {
        "colab": {
          "base_uri": "https://localhost:8080/"
        },
        "id": "t-d8OG0ayYSw",
        "outputId": "6dc956a4-cc0c-4d90-ab48-b15e715f444b"
      },
      "execution_count": 3,
      "outputs": [
        {
          "output_type": "stream",
          "name": "stdout",
          "text": [
            "원점 좌표\n"
          ]
        }
      ]
    },
    {
      "cell_type": "code",
      "source": [
        "#021 수치연산자: +,-,*,/,**,//,%\n",
        "x = 2\n",
        "y = 4\n",
        "print(x * y)\n",
        "print(x / y)\n",
        "print(x ** y)"
      ],
      "metadata": {
        "colab": {
          "base_uri": "https://localhost:8080/"
        },
        "id": "opzd_s3lzdUA",
        "outputId": "847a4c19-0658-4b41-fdfe-e3003f611feb"
      },
      "execution_count": 1,
      "outputs": [
        {
          "output_type": "stream",
          "name": "stdout",
          "text": [
            "8\n",
            "0.5\n",
            "16\n"
          ]
        }
      ]
    },
    {
      "cell_type": "code",
      "source": [
        "x = 5\n",
        "y = 2\n",
        "print(x // y) #5를 2로 나눈 몫\n",
        "print(x % y) #5를 2로 나눈 나머지"
      ],
      "metadata": {
        "colab": {
          "base_uri": "https://localhost:8080/"
        },
        "id": "wn5duggSc5_f",
        "outputId": "73bcfbc3-b860-4c62-f547-b6e4bf53a657"
      },
      "execution_count": 2,
      "outputs": [
        {
          "output_type": "stream",
          "name": "stdout",
          "text": [
            "2\n",
            "1\n"
          ]
        }
      ]
    }
  ]
}