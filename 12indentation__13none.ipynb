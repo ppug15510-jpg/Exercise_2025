{
  "nbformat": 4,
  "nbformat_minor": 0,
  "metadata": {
    "colab": {
      "provenance": [],
      "authorship_tag": "ABX9TyMgqINu+3KRYGcNBhy1aNV3",
      "include_colab_link": true
    },
    "kernelspec": {
      "name": "python3",
      "display_name": "Python 3"
    },
    "language_info": {
      "name": "python"
    }
  },
  "cells": [
    {
      "cell_type": "markdown",
      "metadata": {
        "id": "view-in-github",
        "colab_type": "text"
      },
      "source": [
        "<a href=\"https://colab.research.google.com/github/ppug15510-jpg/Exercise_2025/blob/main/12indentation__13none.ipynb\" target=\"_parent\"><img src=\"https://colab.research.google.com/assets/colab-badge.svg\" alt=\"Open In Colab\"/></a>"
      ]
    },
    {
      "cell_type": "code",
      "execution_count": 1,
      "metadata": {
        "colab": {
          "base_uri": "https://localhost:8080/"
        },
        "id": "a4lfCDx6XNio",
        "outputId": "2a3203ee-8401-4939-f4e4-39f204ff56d4"
      },
      "outputs": [
        {
          "output_type": "stream",
          "name": "stdout",
          "text": [
            "\"a\"가 listData에 요소로 존재합니다.\n"
          ]
        }
      ],
      "source": [
        "#012 들여쓰기\n",
        "listData = ['a','b','c']\n",
        "if 'a' in listData:\n",
        "  print('\"a\"가 listData에 요소로 존재합니다.')\n",
        "else:\n",
        "  print('\"a\"가 listData에 요소로 존재하지 않습니다.')"
      ]
    },
    {
      "cell_type": "code",
      "source": [
        "listData = ['a','b','c']\n",
        "if 'a' in listData:print('\"a\"가 listData에 요소로 존재합니다.')"
      ],
      "metadata": {
        "colab": {
          "base_uri": "https://localhost:8080/"
        },
        "id": "m4SExNhXYd8x",
        "outputId": "fd96eeaf-5049-4f9b-f369-d0276a1bcc0d"
      },
      "execution_count": 3,
      "outputs": [
        {
          "output_type": "stream",
          "name": "stdout",
          "text": [
            "\"a\"가 listData에 요소로 존재합니다.\n"
          ]
        }
      ]
    },
    {
      "cell_type": "code",
      "source": [
        "if'a'in listData:\n",
        "  실행코드"
      ],
      "metadata": {
        "id": "GDq-fVj2ZCpo"
      },
      "execution_count": null,
      "outputs": []
    },
    {
      "cell_type": "code",
      "source": [],
      "metadata": {
        "id": "W4UDM1t2ZlNG"
      },
      "execution_count": null,
      "outputs": []
    },
    {
      "cell_type": "code",
      "source": [
        "  listData = ['a','b','c']\n",
        "if 'a' in listData:\n",
        "  print('\"a\"가 listData에 요소로 존재합니다.')\n",
        "else:\n",
        "  print('\"a\"가 listData에 요소로 존재하지 않습니다.')"
      ],
      "metadata": {
        "colab": {
          "base_uri": "https://localhost:8080/",
          "height": 110
        },
        "id": "EK7wl7m8ZJXX",
        "outputId": "f1e3fd30-f6e9-498c-cf24-6cb2d9cbc897"
      },
      "execution_count": 4,
      "outputs": [
        {
          "output_type": "error",
          "ename": "IndentationError",
          "evalue": "expected an indented block after 'if' statement on line 2 (ipython-input-1336364718.py, line 3)",
          "traceback": [
            "\u001b[0;36m  File \u001b[0;32m\"/tmp/ipython-input-1336364718.py\"\u001b[0;36m, line \u001b[0;32m3\u001b[0m\n\u001b[0;31m    print('\"a\"가 listData에 요소로 존재합니다.')\u001b[0m\n\u001b[0m    ^\u001b[0m\n\u001b[0;31mIndentationError\u001b[0m\u001b[0;31m:\u001b[0m expected an indented block after 'if' statement on line 2\n"
          ]
        }
      ]
    },
    {
      "cell_type": "code",
      "source": [
        "listData = ['a','b','c']\n",
        "if 'a' in listData:\n",
        "  print('\"a\"가 listData에 요소로 존재합니다.')\n",
        "    print('프로그램을 종료합니다.')\n",
        "else:\n",
        "  print('\"a\"가 listData에 요소로 존재하지 않습니다.')"
      ],
      "metadata": {
        "colab": {
          "base_uri": "https://localhost:8080/",
          "height": 110
        },
        "id": "MityPvUgZ-KP",
        "outputId": "437ce4d0-d159-446b-d646-29b8a8e1bafc"
      },
      "execution_count": 5,
      "outputs": [
        {
          "output_type": "error",
          "ename": "IndentationError",
          "evalue": "unexpected indent (ipython-input-3592907144.py, line 4)",
          "traceback": [
            "\u001b[0;36m  File \u001b[0;32m\"/tmp/ipython-input-3592907144.py\"\u001b[0;36m, line \u001b[0;32m4\u001b[0m\n\u001b[0;31m    print('프로그램을 종료합니다.')\u001b[0m\n\u001b[0m    ^\u001b[0m\n\u001b[0;31mIndentationError\u001b[0m\u001b[0;31m:\u001b[0m unexpected indent\n"
          ]
        }
      ]
    },
    {
      "cell_type": "code",
      "source": [
        "#013 None 상수\n",
        "val = None\n",
        "flag = True\n",
        "if flag:\n",
        "  val = [1,2,3,4,5]\n",
        "else:\n",
        "  val = '안녕하세요 파이썬!'"
      ],
      "metadata": {
        "id": "0GAYy7lLaLJv"
      },
      "execution_count": null,
      "outputs": []
    }
  ]
}