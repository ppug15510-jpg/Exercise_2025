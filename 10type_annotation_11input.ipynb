{
  "nbformat": 4,
  "nbformat_minor": 0,
  "metadata": {
    "colab": {
      "provenance": [],
      "authorship_tag": "ABX9TyNKVBLzbNb+1VtPtTxrIfNh",
      "include_colab_link": true
    },
    "kernelspec": {
      "name": "python3",
      "display_name": "Python 3"
    },
    "language_info": {
      "name": "python"
    }
  },
  "cells": [
    {
      "cell_type": "markdown",
      "metadata": {
        "id": "view-in-github",
        "colab_type": "text"
      },
      "source": [
        "<a href=\"https://colab.research.google.com/github/ppug15510-jpg/Exercise_2025/blob/main/10type_annotation_11input.ipynb\" target=\"_parent\"><img src=\"https://colab.research.google.com/assets/colab-badge.svg\" alt=\"Open In Colab\"/></a>"
      ]
    },
    {
      "cell_type": "code",
      "execution_count": 3,
      "metadata": {
        "id": "7q33e0u_ShI8"
      },
      "outputs": [],
      "source": [
        "#010 타입 어노테이션\n",
        "name = '홍길동'\n",
        "age = 17\n",
        "weight = 70.7\n",
        "is_badman = False"
      ]
    },
    {
      "cell_type": "code",
      "source": [
        "name: str = '홍길동'\n",
        "age: int = '17'\n",
        "weight: float = 70.7\n",
        "is_badman:bool = False"
      ],
      "metadata": {
        "id": "UuNvOvY_TViY"
      },
      "execution_count": 4,
      "outputs": []
    },
    {
      "cell_type": "code",
      "source": [
        "booklist: list[str] = ['삼국지', '수호지', '초한지']"
      ],
      "metadata": {
        "id": "_TpdgBP9TxpG"
      },
      "execution_count": 5,
      "outputs": []
    },
    {
      "cell_type": "code",
      "source": [
        "island: tuple[str,float,float] = ('독도', 131.52, 37.14)"
      ],
      "metadata": {
        "id": "bhXAIPNvT-Jq"
      },
      "execution_count": 6,
      "outputs": []
    },
    {
      "cell_type": "code",
      "source": [
        "top4_familyname: dict[str,int] = {'김씨':123456,'나씨':345811,'박씨':963123,'이씨':865909}"
      ],
      "metadata": {
        "id": "h9KAPaLvUTeA"
      },
      "execution_count": 7,
      "outputs": []
    },
    {
      "cell_type": "code",
      "source": [
        "fruits:set[str] = {'사과','배','수박','참외','딸기'}"
      ],
      "metadata": {
        "id": "jiqoREcSVAv3"
      },
      "execution_count": 8,
      "outputs": []
    },
    {
      "cell_type": "code",
      "source": [
        "print(__annotations__)"
      ],
      "metadata": {
        "colab": {
          "base_uri": "https://localhost:8080/"
        },
        "id": "q-klVXjEVPa6",
        "outputId": "449fe5c1-3290-441b-96be-41f40d58181b"
      },
      "execution_count": 10,
      "outputs": [
        {
          "output_type": "stream",
          "name": "stdout",
          "text": [
            "{'name': <class 'str'>, 'age': <class 'int'>, 'weight': <class 'float'>, 'is_badman': <class 'bool'>, 'booklist': list[str], 'island': tuple[str, float, float], 'top4_familyname': dict[str, int], 'fruits': set[str]}\n"
          ]
        }
      ]
    },
    {
      "cell_type": "code",
      "source": [
        "fruits:set[str] = {'사과','배','수박','참외','딸기'}\n",
        "fruits = {1,2,3,4,5}\n",
        "print(fruits)"
      ],
      "metadata": {
        "colab": {
          "base_uri": "https://localhost:8080/"
        },
        "id": "IcgUu-ItVt7n",
        "outputId": "34c11a7a-1d3d-4910-e25a-0987f11bdbbc"
      },
      "execution_count": 11,
      "outputs": [
        {
          "output_type": "stream",
          "name": "stdout",
          "text": [
            "{1, 2, 3, 4, 5}\n"
          ]
        }
      ]
    },
    {
      "cell_type": "code",
      "source": [
        "#011 사용자 입력:input()\n",
        "userInput = input()\n",
        "print('사용자가 입력한 값은 <'+userInput+'> 입니다.')"
      ],
      "metadata": {
        "colab": {
          "base_uri": "https://localhost:8080/"
        },
        "id": "ckxce8OZWH5E",
        "outputId": "4d600a55-1310-40e0-eda2-437b4af49fcb"
      },
      "execution_count": 14,
      "outputs": [
        {
          "output_type": "stream",
          "name": "stdout",
          "text": [
            "10\n",
            "사용자가 입력한 값은 <10> 입니다.\n"
          ]
        }
      ]
    },
    {
      "cell_type": "code",
      "source": [
        "userInput = input('값을 입력하세요: ')\n",
        "print('사용자가 입력한 값은<'+userInput+'> 입니다.')"
      ],
      "metadata": {
        "colab": {
          "base_uri": "https://localhost:8080/"
        },
        "id": "xTYqzXmOWr4L",
        "outputId": "bf1ab2dc-aa5a-4b32-9291-af53666ed240"
      },
      "execution_count": 15,
      "outputs": [
        {
          "output_type": "stream",
          "name": "stdout",
          "text": [
            "값을 입력하세요: yes\n",
            "사용자가 입력한 값은<yes> 입니다.\n"
          ]
        }
      ]
    }
  ]
}