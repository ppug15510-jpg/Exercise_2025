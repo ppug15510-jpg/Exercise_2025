{
  "nbformat": 4,
  "nbformat_minor": 0,
  "metadata": {
    "colab": {
      "provenance": [],
      "authorship_tag": "ABX9TyNwF7gA4vt5n+s0hIE0ziNI",
      "include_colab_link": true
    },
    "kernelspec": {
      "name": "python3",
      "display_name": "Python 3"
    },
    "language_info": {
      "name": "python"
    }
  },
  "cells": [
    {
      "cell_type": "markdown",
      "metadata": {
        "id": "view-in-github",
        "colab_type": "text"
      },
      "source": [
        "<a href=\"https://colab.research.google.com/github/ppug15510-jpg/Exercise_2025/blob/main/90removeprefix_91encode.ipynb\" target=\"_parent\"><img src=\"https://colab.research.google.com/assets/colab-badge.svg\" alt=\"Open In Colab\"/></a>"
      ]
    },
    {
      "cell_type": "code",
      "execution_count": 1,
      "metadata": {
        "colab": {
          "base_uri": "https://localhost:8080/"
        },
        "id": "4tM1gy4AYFgd",
        "outputId": "382b8a81-9bf3-4d64-931e-2758aafda293"
      },
      "outputs": [
        {
          "output_type": "stream",
          "name": "stdout",
          "text": [
            "Seoul is the captial of Korea.\n"
          ]
        }
      ],
      "source": [
        "#090 문자열에서 주어진 접두어/접미어 제거하기: str.removeprefix(), str.removesuffix()\n",
        "strData = '[info]Seoul is the captial of Korea.'\n",
        "cityinfo = strData.removeprefix('[info]')\n",
        "print(cityinfo)"
      ]
    },
    {
      "cell_type": "code",
      "source": [
        "strData = '이것으로 문장을 마무리합니다.<EOD>'\n",
        "ret = strData.removesuffix('<EOD>')\n",
        "print(ret)"
      ],
      "metadata": {
        "colab": {
          "base_uri": "https://localhost:8080/"
        },
        "id": "F4fogCLxY9dV",
        "outputId": "0fca2d8d-b7eb-416b-dcf2-049575ad315e"
      },
      "execution_count": 2,
      "outputs": [
        {
          "output_type": "stream",
          "name": "stdout",
          "text": [
            "이것으로 문장을 마무리합니다.\n"
          ]
        }
      ]
    },
    {
      "cell_type": "code",
      "source": [
        "#091 문자열을 바이트 문자열로 변환하기: str.encode()\n",
        "strData = 'python'\n",
        "byteData = strData.encode()\n",
        "print(byteData)"
      ],
      "metadata": {
        "colab": {
          "base_uri": "https://localhost:8080/"
        },
        "id": "FiU5aMPVZPsx",
        "outputId": "40aaeca8-4c50-4bd2-f7dc-a1e12e59b014"
      },
      "execution_count": 5,
      "outputs": [
        {
          "output_type": "stream",
          "name": "stdout",
          "text": [
            "b'python'\n"
          ]
        }
      ]
    },
    {
      "cell_type": "code",
      "source": [
        "for idx, c in enumerate(strData):\n",
        "  print(f'strData[{idx}] = {c}')"
      ],
      "metadata": {
        "colab": {
          "base_uri": "https://localhost:8080/"
        },
        "id": "CHHRNiFEZ8sj",
        "outputId": "f0ef16c1-a773-4a05-8dd6-660afd68216f"
      },
      "execution_count": 7,
      "outputs": [
        {
          "output_type": "stream",
          "name": "stdout",
          "text": [
            "strData[0] = p\n",
            "strData[1] = y\n",
            "strData[2] = t\n",
            "strData[3] = h\n",
            "strData[4] = o\n",
            "strData[5] = n\n"
          ]
        }
      ]
    },
    {
      "cell_type": "code",
      "source": [
        "for idx, c in enumerate(byteData):\n",
        "  print(f'byteData[{idx}] = {c}. {hex(c)}')"
      ],
      "metadata": {
        "colab": {
          "base_uri": "https://localhost:8080/"
        },
        "id": "zW5qwzpXaLSW",
        "outputId": "48d3f3bc-a30c-4b18-dcd8-594e2523b110"
      },
      "execution_count": 8,
      "outputs": [
        {
          "output_type": "stream",
          "name": "stdout",
          "text": [
            "byteData[0] = 112. 0x70\n",
            "byteData[1] = 121. 0x79\n",
            "byteData[2] = 116. 0x74\n",
            "byteData[3] = 104. 0x68\n",
            "byteData[4] = 111. 0x6f\n",
            "byteData[5] = 110. 0x6e\n"
          ]
        }
      ]
    },
    {
      "cell_type": "code",
      "source": [
        "strData = '파이썬'\n",
        "byteData = strData.encode()\n",
        "print(byteData)"
      ],
      "metadata": {
        "colab": {
          "base_uri": "https://localhost:8080/"
        },
        "id": "-iVxgu17adH2",
        "outputId": "563bc643-3882-4d51-c298-2f9819cc80ba"
      },
      "execution_count": 10,
      "outputs": [
        {
          "output_type": "stream",
          "name": "stdout",
          "text": [
            "b'\\xed\\x8c\\x8c\\xec\\x9d\\xb4\\xec\\x8d\\xac'\n"
          ]
        }
      ]
    },
    {
      "cell_type": "code",
      "source": [
        "strData = '파이썬'\n",
        "byteData = strData.encode('CP949')\n",
        "print(byteData)"
      ],
      "metadata": {
        "colab": {
          "base_uri": "https://localhost:8080/"
        },
        "id": "L4o7XD-GasVO",
        "outputId": "6ca3b2cd-3df4-4500-f124-5ef6026d31b6"
      },
      "execution_count": 11,
      "outputs": [
        {
          "output_type": "stream",
          "name": "stdout",
          "text": [
            "b'\\xc6\\xc4\\xc0\\xcc\\xbd\\xe3'\n"
          ]
        }
      ]
    }
  ]
}