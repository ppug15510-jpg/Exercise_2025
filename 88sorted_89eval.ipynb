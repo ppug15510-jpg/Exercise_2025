{
  "nbformat": 4,
  "nbformat_minor": 0,
  "metadata": {
    "colab": {
      "provenance": [],
      "authorship_tag": "ABX9TyNHOzyShfD2vgQrh4i2jsql",
      "include_colab_link": true
    },
    "kernelspec": {
      "name": "python3",
      "display_name": "Python 3"
    },
    "language_info": {
      "name": "python"
    }
  },
  "cells": [
    {
      "cell_type": "markdown",
      "metadata": {
        "id": "view-in-github",
        "colab_type": "text"
      },
      "source": [
        "<a href=\"https://colab.research.google.com/github/ppug15510-jpg/Exercise_2025/blob/main/88sorted_89eval.ipynb\" target=\"_parent\"><img src=\"https://colab.research.google.com/assets/colab-badge.svg\" alt=\"Open In Colab\"/></a>"
      ]
    },
    {
      "cell_type": "code",
      "execution_count": 2,
      "metadata": {
        "id": "MPYw9D7tbOeT",
        "colab": {
          "base_uri": "https://localhost:8080/"
        },
        "outputId": "3a17a442-81ff-4788-c187-fd3e46b20797"
      },
      "outputs": [
        {
          "output_type": "stream",
          "name": "stdout",
          "text": [
            "['1', '3', '5', 'a', 'a', 'i', 'k', 'k', 'k', 'k', 'n', 'n', 'n', 'n', 'r', 't', 'v', 'z']\n"
          ]
        }
      ],
      "source": [
        "#088 문자열 정렬하기: sorted(), ''.join()\n",
        "randstr = 'nk315nnkakkavnzrit'\n",
        "ret = sorted(randstr)\n",
        "print(ret)"
      ]
    },
    {
      "cell_type": "code",
      "source": [
        "final = ''.join(ret)\n",
        "print(final)"
      ],
      "metadata": {
        "colab": {
          "base_uri": "https://localhost:8080/"
        },
        "id": "F3nTyTxmgYea",
        "outputId": "82542c0d-fe1b-4b38-fb8e-269f01d64c7a"
      },
      "execution_count": 3,
      "outputs": [
        {
          "output_type": "stream",
          "name": "stdout",
          "text": [
            "135aaikkkknnnnrtvz\n"
          ]
        }
      ]
    },
    {
      "cell_type": "code",
      "source": [
        "#089 문자열로 된 식 실행하기: eval()\n",
        "expression = '123 + 456'\n",
        "answer = eval(expression)\n",
        "print(f'{expression} = {answer}')"
      ],
      "metadata": {
        "colab": {
          "base_uri": "https://localhost:8080/"
        },
        "id": "nNqd2WwyghO0",
        "outputId": "224b428e-603f-4dd9-c124-f42e3bbc3461"
      },
      "execution_count": 4,
      "outputs": [
        {
          "output_type": "stream",
          "name": "stdout",
          "text": [
            "123 + 456 = 579\n"
          ]
        }
      ]
    },
    {
      "cell_type": "code",
      "source": [
        "expression = 'round(3.14)'\n",
        "print(f'{expression} = {eval(expression)}')"
      ],
      "metadata": {
        "colab": {
          "base_uri": "https://localhost:8080/"
        },
        "id": "YgxxJd11g91A",
        "outputId": "47515b00-054b-4958-e739-9b5e2d18ed3c"
      },
      "execution_count": 5,
      "outputs": [
        {
          "output_type": "stream",
          "name": "stdout",
          "text": [
            "round(3.14) = 3\n"
          ]
        }
      ]
    },
    {
      "cell_type": "code",
      "source": [
        "ret = eval('안녕하세요')"
      ],
      "metadata": {
        "colab": {
          "base_uri": "https://localhost:8080/",
          "height": 182
        },
        "id": "Ub_6O8JghRwf",
        "outputId": "dcecd22a-d3f6-47e7-b107-3642554618d7"
      },
      "execution_count": 6,
      "outputs": [
        {
          "output_type": "error",
          "ename": "NameError",
          "evalue": "name '안녕하세요' is not defined",
          "traceback": [
            "\u001b[0;31m---------------------------------------------------------------------------\u001b[0m",
            "\u001b[0;31mNameError\u001b[0m                                 Traceback (most recent call last)",
            "\u001b[0;32m/tmp/ipython-input-4215630329.py\u001b[0m in \u001b[0;36m<cell line: 0>\u001b[0;34m()\u001b[0m\n\u001b[0;32m----> 1\u001b[0;31m \u001b[0mret\u001b[0m \u001b[0;34m=\u001b[0m \u001b[0meval\u001b[0m\u001b[0;34m(\u001b[0m\u001b[0;34m'안녕하세요'\u001b[0m\u001b[0;34m)\u001b[0m\u001b[0;34m\u001b[0m\u001b[0;34m\u001b[0m\u001b[0m\n\u001b[0m",
            "\u001b[0;32m<string>\u001b[0m in \u001b[0;36m<module>\u001b[0;34m\u001b[0m\n",
            "\u001b[0;31mNameError\u001b[0m: name '안녕하세요' is not defined"
          ]
        }
      ]
    }
  ]
}