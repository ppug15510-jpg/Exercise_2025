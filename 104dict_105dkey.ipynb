{
  "nbformat": 4,
  "nbformat_minor": 0,
  "metadata": {
    "colab": {
      "provenance": [],
      "authorship_tag": "ABX9TyO4GMeR7POGyneQhspPmVs9",
      "include_colab_link": true
    },
    "kernelspec": {
      "name": "python3",
      "display_name": "Python 3"
    },
    "language_info": {
      "name": "python"
    }
  },
  "cells": [
    {
      "cell_type": "markdown",
      "metadata": {
        "id": "view-in-github",
        "colab_type": "text"
      },
      "source": [
        "<a href=\"https://colab.research.google.com/github/ppug15510-jpg/Exercise_2025/blob/main/104dict_105dkey.ipynb\" target=\"_parent\"><img src=\"https://colab.research.google.com/assets/colab-badge.svg\" alt=\"Open In Colab\"/></a>"
      ]
    },
    {
      "cell_type": "code",
      "execution_count": 1,
      "metadata": {
        "id": "mHo3RZ_vEJzY"
      },
      "outputs": [],
      "source": [
        "#104 딕셔너리 객체: dict()\n",
        "population = {'서울':9407540, '부산':3320276, '인천':2964820}"
      ]
    },
    {
      "cell_type": "code",
      "source": [
        "population = dict(서울=9407540, 부산=3320276, 인천=2964820)\n",
        "print(population)"
      ],
      "metadata": {
        "colab": {
          "base_uri": "https://localhost:8080/"
        },
        "id": "2VLwTY6AEyBc",
        "outputId": "b5e0f056-0448-4cf8-db93-8f4d2dffe8f1"
      },
      "execution_count": 2,
      "outputs": [
        {
          "output_type": "stream",
          "name": "stdout",
          "text": [
            "{'서울': 9407540, '부산': 3320276, '인천': 2964820}\n"
          ]
        }
      ]
    },
    {
      "cell_type": "code",
      "source": [
        "population = dict([('서울',9407540),('부산',3320276),('인천',2964820)])\n",
        "print(population)"
      ],
      "metadata": {
        "colab": {
          "base_uri": "https://localhost:8080/"
        },
        "id": "YXCxt_FdFJKg",
        "outputId": "8c9456c8-34c1-49ee-efa9-ce7381acdb5b"
      },
      "execution_count": 4,
      "outputs": [
        {
          "output_type": "stream",
          "name": "stdout",
          "text": [
            "{'서울': 9407540, '부산': 3320276, '인천': 2964820}\n"
          ]
        }
      ]
    },
    {
      "cell_type": "code",
      "source": [
        "#105 딕셔너리에서 값 추출하기1: d.[key]\n",
        "population = {'서울':9407540, '부산':3320276, '인천':2964820}\n",
        "pnum = population['서울']\n",
        "print(f'2022년 기준 서울의 인구는 {pnum:,d}명 입니다.')"
      ],
      "metadata": {
        "colab": {
          "base_uri": "https://localhost:8080/"
        },
        "id": "hzIzv1TIFna1",
        "outputId": "399e9569-3c36-43e3-d49d-3c2739bb97be"
      },
      "execution_count": 6,
      "outputs": [
        {
          "output_type": "stream",
          "name": "stdout",
          "text": [
            "2022년 기준 서울의 인구는 9,407,540명 입니다.\n"
          ]
        }
      ]
    },
    {
      "cell_type": "code",
      "source": [
        "orddict = {97:'a',98:'b',99:'c'}\n",
        "print(f'ASCII 코드 97은 문자 {orddict[97]}에 대응됩니다.')"
      ],
      "metadata": {
        "colab": {
          "base_uri": "https://localhost:8080/"
        },
        "id": "87ndpE3RHiNJ",
        "outputId": "0a7da5e0-77da-4c77-b50e-d2f354706331"
      },
      "execution_count": 8,
      "outputs": [
        {
          "output_type": "stream",
          "name": "stdout",
          "text": [
            "ASCII 코드 97은 문자 a에 대응됩니다.\n"
          ]
        }
      ]
    },
    {
      "cell_type": "code",
      "source": [
        "ret = orddict[95]"
      ],
      "metadata": {
        "colab": {
          "base_uri": "https://localhost:8080/",
          "height": 146
        },
        "id": "pTV2loa7IQ6U",
        "outputId": "01607321-a98a-434e-eb40-acfe79d8f960"
      },
      "execution_count": 9,
      "outputs": [
        {
          "output_type": "error",
          "ename": "KeyError",
          "evalue": "95",
          "traceback": [
            "\u001b[0;31m---------------------------------------------------------------------------\u001b[0m",
            "\u001b[0;31mKeyError\u001b[0m                                  Traceback (most recent call last)",
            "\u001b[0;32m/tmp/ipython-input-2380799019.py\u001b[0m in \u001b[0;36m<cell line: 0>\u001b[0;34m()\u001b[0m\n\u001b[0;32m----> 1\u001b[0;31m \u001b[0mret\u001b[0m \u001b[0;34m=\u001b[0m \u001b[0morddict\u001b[0m\u001b[0;34m[\u001b[0m\u001b[0;36m95\u001b[0m\u001b[0;34m]\u001b[0m\u001b[0;34m\u001b[0m\u001b[0;34m\u001b[0m\u001b[0m\n\u001b[0m",
            "\u001b[0;31mKeyError\u001b[0m: 95"
          ]
        }
      ]
    }
  ]
}