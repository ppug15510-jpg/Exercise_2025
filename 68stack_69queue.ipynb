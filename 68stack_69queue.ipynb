{
  "nbformat": 4,
  "nbformat_minor": 0,
  "metadata": {
    "colab": {
      "provenance": [],
      "authorship_tag": "ABX9TyP7ZT70tKySbNo2qpFYAton",
      "include_colab_link": true
    },
    "kernelspec": {
      "name": "python3",
      "display_name": "Python 3"
    },
    "language_info": {
      "name": "python"
    }
  },
  "cells": [
    {
      "cell_type": "markdown",
      "metadata": {
        "id": "view-in-github",
        "colab_type": "text"
      },
      "source": [
        "<a href=\"https://colab.research.google.com/github/ppug15510-jpg/Exercise_2025/blob/main/68stack_69queue.ipynb\" target=\"_parent\"><img src=\"https://colab.research.google.com/assets/colab-badge.svg\" alt=\"Open In Colab\"/></a>"
      ]
    },
    {
      "cell_type": "code",
      "source": [
        "#068 리스트로 스택 구현하기\n",
        "mystack = []"
      ],
      "metadata": {
        "id": "qy9x4XmERcmM"
      },
      "execution_count": 14,
      "outputs": []
    },
    {
      "cell_type": "code",
      "source": [
        "def putData(data):\n",
        "  mystack.append(data)"
      ],
      "metadata": {
        "id": "0DaXYvImRiSi"
      },
      "execution_count": 15,
      "outputs": []
    },
    {
      "cell_type": "code",
      "source": [
        "def popData():\n",
        "  if len(mystack) == 0:\n",
        "    return None\n",
        "  return mystack.pop()"
      ],
      "metadata": {
        "id": "Lk8lWPYjRxuQ"
      },
      "execution_count": 16,
      "outputs": []
    },
    {
      "cell_type": "code",
      "execution_count": 17,
      "metadata": {
        "colab": {
          "base_uri": "https://localhost:8080/"
        },
        "id": "63fzelgAQbhv",
        "outputId": "956224da-6873-4580-afc7-a5581f2c4387"
      },
      "outputs": [
        {
          "output_type": "stream",
          "name": "stdout",
          "text": [
            "스택상태:['사과', [1, 2, 3], 3.141592]\n"
          ]
        }
      ],
      "source": [
        "putData('사과')\n",
        "putData([1,2,3])\n",
        "putData(3.141592)\n",
        "print(f'스택상태:{mystack}')"
      ]
    },
    {
      "cell_type": "code",
      "source": [
        "ret = popData()\n",
        "while ret != None:\n",
        "  print(f'스택에서 데이터 추출:{ret}')\n",
        "  print(f'스택상태:{mystack}')\n",
        "  print('------------------')\n",
        "  ret = popData()"
      ],
      "metadata": {
        "colab": {
          "base_uri": "https://localhost:8080/"
        },
        "id": "uJh3P7rdTASh",
        "outputId": "e2245325-a9af-4e71-a933-a39f52a4dd7b"
      },
      "execution_count": 19,
      "outputs": [
        {
          "output_type": "stream",
          "name": "stdout",
          "text": [
            "스택에서 데이터 추출:3.141592\n",
            "스택상태:['사과', [1, 2, 3]]\n",
            "------------------\n",
            "스택에서 데이터 추출:[1, 2, 3]\n",
            "스택상태:['사과']\n",
            "------------------\n",
            "스택에서 데이터 추출:사과\n",
            "스택상태:[]\n",
            "------------------\n"
          ]
        }
      ]
    },
    {
      "cell_type": "code",
      "source": [
        "#069 리스트로 큐 구현하기\n",
        "import collections\n",
        "myqueue = collections.deque([])"
      ],
      "metadata": {
        "id": "nVp32SuRToxL"
      },
      "execution_count": 11,
      "outputs": []
    },
    {
      "cell_type": "code",
      "source": [
        "def putData(data):\n",
        "  myqueue.append(data)"
      ],
      "metadata": {
        "id": "ipZqdPF9UFaW"
      },
      "execution_count": 12,
      "outputs": []
    },
    {
      "cell_type": "code",
      "source": [
        "def popData():\n",
        "  if len(myqueue) == 0:\n",
        "    return None\n",
        "  return myqueue.popleft()"
      ],
      "metadata": {
        "id": "iThpRCyzUOyz"
      },
      "execution_count": 13,
      "outputs": []
    },
    {
      "cell_type": "code",
      "source": [
        "putData('사과')\n",
        "putData([1,2,3])\n",
        "putData(3.141592)\n",
        "print(f'큐상태:{myqueue}')"
      ],
      "metadata": {
        "colab": {
          "base_uri": "https://localhost:8080/"
        },
        "id": "xWN9DRCuUd6I",
        "outputId": "1f1e512a-42e0-4043-f48f-c61f8779cde4"
      },
      "execution_count": 14,
      "outputs": [
        {
          "output_type": "stream",
          "name": "stdout",
          "text": [
            "큐상태:deque(['사과', [1, 2, 3], 3.141592])\n"
          ]
        }
      ]
    },
    {
      "cell_type": "code",
      "source": [
        "ret = popData()\n",
        "while ret != None:\n",
        "  print(f'큐에서 데이터 추출:{ret}')\n",
        "  print(f'큐상태:{myqueue}')\n",
        "  print('------------------')\n",
        "  ret = popData()"
      ],
      "metadata": {
        "colab": {
          "base_uri": "https://localhost:8080/"
        },
        "id": "fCxtyriU-SZ_",
        "outputId": "19817eb9-9ad8-4d47-d080-6bed4630630b"
      },
      "execution_count": 15,
      "outputs": [
        {
          "output_type": "stream",
          "name": "stdout",
          "text": [
            "큐에서 데이터 추출:사과\n",
            "큐상태:deque([[1, 2, 3], 3.141592])\n",
            "------------------\n",
            "큐에서 데이터 추출:[1, 2, 3]\n",
            "큐상태:deque([3.141592])\n",
            "------------------\n",
            "큐에서 데이터 추출:3.141592\n",
            "큐상태:deque([])\n",
            "------------------\n"
          ]
        }
      ]
    }
  ]
}