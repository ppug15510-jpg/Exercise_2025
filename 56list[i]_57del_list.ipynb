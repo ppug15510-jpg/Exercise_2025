{
  "nbformat": 4,
  "nbformat_minor": 0,
  "metadata": {
    "colab": {
      "provenance": [],
      "authorship_tag": "ABX9TyPERYaRY2nc0BUCPGL2XtOb",
      "include_colab_link": true
    },
    "kernelspec": {
      "name": "python3",
      "display_name": "Python 3"
    },
    "language_info": {
      "name": "python"
    }
  },
  "cells": [
    {
      "cell_type": "markdown",
      "metadata": {
        "id": "view-in-github",
        "colab_type": "text"
      },
      "source": [
        "<a href=\"https://colab.research.google.com/github/ppug15510-jpg/Exercise_2025/blob/main/56list%5Bi%5D_57del_list.ipynb\" target=\"_parent\"><img src=\"https://colab.research.google.com/assets/colab-badge.svg\" alt=\"Open In Colab\"/></a>"
      ]
    },
    {
      "cell_type": "code",
      "execution_count": 1,
      "metadata": {
        "colab": {
          "base_uri": "https://localhost:8080/"
        },
        "id": "9L7ll7bQ2CV5",
        "outputId": "b610f0d4-feb6-4672-ad7a-6f551b8c340d"
      },
      "outputs": [
        {
          "output_type": "stream",
          "name": "stdout",
          "text": [
            "['태양', '수성', '금성', 'Earth', '화성', '목성', '토성', '천왕성', '해왕성']\n"
          ]
        }
      ],
      "source": [
        "#056 리스트의 요소값 변경: list[i] = x\n",
        "solarsys = ['태양','수성','금성','지구','화성','목성','토성','천왕성','해왕성']\n",
        "solarsys[3] = 'Earth'\n",
        "print(solarsys)"
      ]
    },
    {
      "cell_type": "code",
      "source": [
        "solarsys_ko = ['태양','수성','금성','지구','화성','목성','토성','천왕성','해왕성']\n",
        "solarsys_en = ['Sun','Mercury','Venus','Earth','Mars','Jupiter','Saturn','Uranus','Naptune']\n",
        "\n",
        "for i in range(len(solarsys_ko)):\n",
        "  solarsys_ko[i] = solarsys_en[i]\n",
        "\n",
        "print(solarsys_ko)"
      ],
      "metadata": {
        "colab": {
          "base_uri": "https://localhost:8080/"
        },
        "id": "xgouIP0i2ttk",
        "outputId": "c224993e-0d92-4315-b6eb-4d72b1949c02"
      },
      "execution_count": 3,
      "outputs": [
        {
          "output_type": "stream",
          "name": "stdout",
          "text": [
            "['Sun', 'Mercury', 'Venus', 'Earth', 'Mars', 'Jupiter', 'Saturn', 'Uranus', 'Naptune']\n"
          ]
        }
      ]
    },
    {
      "cell_type": "code",
      "source": [
        "#057 리스트에서 요소 삭제하기 1: del list[i]\n",
        "fruits = ['사과','배','오렌지','수박','참외']\n",
        "del fruits[1]\n",
        "print(fruits)\n",
        "del fruits[-1]\n",
        "print(fruits)"
      ],
      "metadata": {
        "colab": {
          "base_uri": "https://localhost:8080/"
        },
        "id": "NDGlC7jt4TOt",
        "outputId": "9724568c-58cc-421e-cea8-22d560096067"
      },
      "execution_count": 4,
      "outputs": [
        {
          "output_type": "stream",
          "name": "stdout",
          "text": [
            "['사과', '오렌지', '수박', '참외']\n",
            "['사과', '오렌지', '수박']\n"
          ]
        }
      ]
    },
    {
      "cell_type": "code",
      "source": [
        "solarsys = ['태양','수성','금성','지구','화성','소행성대','목성','토성']\n",
        "del solarsys[4:6]\n",
        "print(solarsys)"
      ],
      "metadata": {
        "colab": {
          "base_uri": "https://localhost:8080/"
        },
        "id": "7ZU00nnd5B1o",
        "outputId": "f66346f3-1b76-44bd-a3ba-7587a97f40ca"
      },
      "execution_count": 5,
      "outputs": [
        {
          "output_type": "stream",
          "name": "stdout",
          "text": [
            "['태양', '수성', '금성', '지구', '목성', '토성']\n"
          ]
        }
      ]
    },
    {
      "cell_type": "code",
      "source": [
        "del solarsys[:]\n",
        "print(solarsys)"
      ],
      "metadata": {
        "colab": {
          "base_uri": "https://localhost:8080/"
        },
        "id": "FMcnG5AJ5a75",
        "outputId": "0521bf1b-4557-40f3-ad97-e5b4795a3386"
      },
      "execution_count": 6,
      "outputs": [
        {
          "output_type": "stream",
          "name": "stdout",
          "text": [
            "[]\n"
          ]
        }
      ]
    },
    {
      "cell_type": "code",
      "source": [
        "solarsys = ['태양','수성','금성','지구','화성','소행성대','목성','토성']\n",
        "if '소행성대' in solarsys:\n",
        "  idx = solarsys.index('소행성대')\n",
        "  del solarsys[idx]\n",
        "\n",
        "print(solarsys)"
      ],
      "metadata": {
        "colab": {
          "base_uri": "https://localhost:8080/"
        },
        "id": "zoJkoUkz5hc7",
        "outputId": "adde993f-ad78-44fb-e91b-d64d72af5a02"
      },
      "execution_count": 7,
      "outputs": [
        {
          "output_type": "stream",
          "name": "stdout",
          "text": [
            "['태양', '수성', '금성', '지구', '화성', '목성', '토성']\n"
          ]
        }
      ]
    },
    {
      "cell_type": "code",
      "source": [
        "fruits = ['사과','배','오렌지','수박','참외']\n",
        "del fruits\n",
        "print(fruits)"
      ],
      "metadata": {
        "colab": {
          "base_uri": "https://localhost:8080/",
          "height": 184
        },
        "id": "s4rQ8UeU6Cmo",
        "outputId": "fc6ee83a-8585-48fd-b690-a782506b97fd"
      },
      "execution_count": 8,
      "outputs": [
        {
          "output_type": "error",
          "ename": "NameError",
          "evalue": "name 'fruits' is not defined",
          "traceback": [
            "\u001b[0;31m---------------------------------------------------------------------------\u001b[0m",
            "\u001b[0;31mNameError\u001b[0m                                 Traceback (most recent call last)",
            "\u001b[0;32m/tmp/ipython-input-3265053029.py\u001b[0m in \u001b[0;36m<cell line: 0>\u001b[0;34m()\u001b[0m\n\u001b[1;32m      1\u001b[0m \u001b[0mfruits\u001b[0m \u001b[0;34m=\u001b[0m \u001b[0;34m[\u001b[0m\u001b[0;34m'사과'\u001b[0m\u001b[0;34m,\u001b[0m\u001b[0;34m'배'\u001b[0m\u001b[0;34m,\u001b[0m\u001b[0;34m'오렌지'\u001b[0m\u001b[0;34m,\u001b[0m\u001b[0;34m'수박'\u001b[0m\u001b[0;34m,\u001b[0m\u001b[0;34m'참외'\u001b[0m\u001b[0;34m]\u001b[0m\u001b[0;34m\u001b[0m\u001b[0;34m\u001b[0m\u001b[0m\n\u001b[1;32m      2\u001b[0m \u001b[0;32mdel\u001b[0m \u001b[0mfruits\u001b[0m\u001b[0;34m\u001b[0m\u001b[0;34m\u001b[0m\u001b[0m\n\u001b[0;32m----> 3\u001b[0;31m \u001b[0mprint\u001b[0m\u001b[0;34m(\u001b[0m\u001b[0mfruits\u001b[0m\u001b[0;34m)\u001b[0m\u001b[0;34m\u001b[0m\u001b[0;34m\u001b[0m\u001b[0m\n\u001b[0m",
            "\u001b[0;31mNameError\u001b[0m: name 'fruits' is not defined"
          ]
        }
      ]
    }
  ]
}