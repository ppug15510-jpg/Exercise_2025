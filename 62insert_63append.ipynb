{
  "nbformat": 4,
  "nbformat_minor": 0,
  "metadata": {
    "colab": {
      "provenance": [],
      "authorship_tag": "ABX9TyN/BDTJp1n7pzRQy6KXv0om",
      "include_colab_link": true
    },
    "kernelspec": {
      "name": "python3",
      "display_name": "Python 3"
    },
    "language_info": {
      "name": "python"
    }
  },
  "cells": [
    {
      "cell_type": "markdown",
      "metadata": {
        "id": "view-in-github",
        "colab_type": "text"
      },
      "source": [
        "<a href=\"https://colab.research.google.com/github/ppug15510-jpg/Exercise_2025/blob/main/62insert_63append.ipynb\" target=\"_parent\"><img src=\"https://colab.research.google.com/assets/colab-badge.svg\" alt=\"Open In Colab\"/></a>"
      ]
    },
    {
      "cell_type": "code",
      "execution_count": 1,
      "metadata": {
        "colab": {
          "base_uri": "https://localhost:8080/"
        },
        "id": "r-47DzuN0fvq",
        "outputId": "4cf89103-4900-460b-8d4b-103a6cca251d"
      },
      "outputs": [
        {
          "output_type": "stream",
          "name": "stdout",
          "text": [
            "['목성', '토성', '천왕성', '해왕성']\n"
          ]
        }
      ],
      "source": [
        "#062 리스트에 요소 삽입하기: list.insert()\n",
        "outer_planets = ['목성','천왕성','해왕성']\n",
        "pos = outer_planets.index('천왕성')\n",
        "outer_planets.insert(pos,'토성')\n",
        "print(outer_planets)"
      ]
    },
    {
      "cell_type": "code",
      "source": [
        "outer_planets.insert(-1,'명왕성')\n",
        "print(outer_planets)"
      ],
      "metadata": {
        "colab": {
          "base_uri": "https://localhost:8080/"
        },
        "id": "EtWB9Uu61iJP",
        "outputId": "5f9e6b38-0129-4c2c-8b84-4c5f3cfdbbe0"
      },
      "execution_count": 3,
      "outputs": [
        {
          "output_type": "stream",
          "name": "stdout",
          "text": [
            "['목성', '토성', '천왕성', '명왕성', '해왕성']\n"
          ]
        }
      ]
    },
    {
      "cell_type": "code",
      "source": [
        "outer_planets = ['목성','토성','천왕성','해왕성']\n",
        "outer_planets.insert(len(outer_planets),'명왕성')\n",
        "print(outer_planets)"
      ],
      "metadata": {
        "colab": {
          "base_uri": "https://localhost:8080/"
        },
        "id": "V_0GQCoR1ygr",
        "outputId": "49a49466-f62b-45b3-9a71-e9a929e1474f"
      },
      "execution_count": 4,
      "outputs": [
        {
          "output_type": "stream",
          "name": "stdout",
          "text": [
            "['목성', '토성', '천왕성', '해왕성', '명왕성']\n"
          ]
        }
      ]
    },
    {
      "cell_type": "code",
      "source": [
        "#063 리스트 맨 마지막 요소 추가하기: list.append()\n",
        "fileList = []\n",
        "for i in range(3):\n",
        "  fname = input(f'파일 이름을 입력하세요[{i+1}/3]: ')\n",
        "  if fname not in fileList:\n",
        "    fileList.append(fname)\n",
        "  print(f'현재 저장된 파일들:{fileList}')"
      ],
      "metadata": {
        "colab": {
          "base_uri": "https://localhost:8080/"
        },
        "id": "TZSnZ9wV2ITy",
        "outputId": "f88cfe4b-c750-43ed-9dd0-b84b62dc9b86"
      },
      "execution_count": 7,
      "outputs": [
        {
          "output_type": "stream",
          "name": "stdout",
          "text": [
            "파일 이름을 입력하세요[1/3]: a.jpg\n",
            "현재 저장된 파일들:['a.jpg']\n",
            "파일 이름을 입력하세요[2/3]: b.jpg\n",
            "현재 저장된 파일들:['a.jpg', 'b.jpg']\n",
            "파일 이름을 입력하세요[3/3]: b.jpg\n",
            "현재 저장된 파일들:['a.jpg', 'b.jpg']\n"
          ]
        }
      ]
    }
  ]
}