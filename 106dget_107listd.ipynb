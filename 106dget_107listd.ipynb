{
  "nbformat": 4,
  "nbformat_minor": 0,
  "metadata": {
    "colab": {
      "provenance": [],
      "authorship_tag": "ABX9TyP1n0UtViwrDLfRLaAFdu1K",
      "include_colab_link": true
    },
    "kernelspec": {
      "name": "python3",
      "display_name": "Python 3"
    },
    "language_info": {
      "name": "python"
    }
  },
  "cells": [
    {
      "cell_type": "markdown",
      "metadata": {
        "id": "view-in-github",
        "colab_type": "text"
      },
      "source": [
        "<a href=\"https://colab.research.google.com/github/ppug15510-jpg/Exercise_2025/blob/main/106dget_107listd.ipynb\" target=\"_parent\"><img src=\"https://colab.research.google.com/assets/colab-badge.svg\" alt=\"Open In Colab\"/></a>"
      ]
    },
    {
      "cell_type": "code",
      "execution_count": 3,
      "metadata": {
        "colab": {
          "base_uri": "https://localhost:8080/"
        },
        "id": "K-Ypsz4-M3Ug",
        "outputId": "557e91e4-6693-4509-87ef-d441b1010de8"
      },
      "outputs": [
        {
          "output_type": "stream",
          "name": "stdout",
          "text": [
            "ret1 = 2111, ret2 = None\n"
          ]
        }
      ],
      "source": [
        "#106 딕셔너리에서 값 추출하기 2: d.get()\n",
        "names = {'Mary':10999,'Cris':2111,'Aimy':9778,'Tom':20245}\n",
        "ret1 = names.get('Cris')\n",
        "ret2 = names.get('Sams')\n",
        "print(f'ret1 = {ret1}, ret2 = {ret2}')"
      ]
    },
    {
      "cell_type": "code",
      "source": [
        "ret1 = names.get('Cris',0)\n",
        "ret2 = names.get('Sams',0)\n",
        "print(f'ret1 = {ret1}, ret2 = {ret2}')"
      ],
      "metadata": {
        "colab": {
          "base_uri": "https://localhost:8080/"
        },
        "id": "2zQWz22TNl1e",
        "outputId": "f69c8a12-7d9f-4280-ad5f-6f292512671d"
      },
      "execution_count": 4,
      "outputs": [
        {
          "output_type": "stream",
          "name": "stdout",
          "text": [
            "ret1 = 2111, ret2 = 0\n"
          ]
        }
      ]
    },
    {
      "cell_type": "code",
      "source": [
        "#107 딕셔너리의 모든 키를 리스트로 만들기: list(d)\n",
        "names = {'Mary':10999,'Cris':2111,'Aimy':9778,'Tom':20245}\n",
        "nameList = list(names)\n",
        "print(nameList)"
      ],
      "metadata": {
        "colab": {
          "base_uri": "https://localhost:8080/"
        },
        "id": "YH1KJFaNN7Ou",
        "outputId": "5303a3f4-38dc-4413-e7e0-abd2542cf454"
      },
      "execution_count": 6,
      "outputs": [
        {
          "output_type": "stream",
          "name": "stdout",
          "text": [
            "['Mary', 'Cris', 'Aimy', 'Tom']\n"
          ]
        }
      ]
    }
  ]
}