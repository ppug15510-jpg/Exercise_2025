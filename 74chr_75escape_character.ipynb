{
  "nbformat": 4,
  "nbformat_minor": 0,
  "metadata": {
    "colab": {
      "provenance": [],
      "authorship_tag": "ABX9TyPBQS0e2YupgIMz1A5n1kPJ",
      "include_colab_link": true
    },
    "kernelspec": {
      "name": "python3",
      "display_name": "Python 3"
    },
    "language_info": {
      "name": "python"
    }
  },
  "cells": [
    {
      "cell_type": "markdown",
      "metadata": {
        "id": "view-in-github",
        "colab_type": "text"
      },
      "source": [
        "<a href=\"https://colab.research.google.com/github/ppug15510-jpg/Exercise_2025/blob/main/74chr_75escape_character.ipynb\" target=\"_parent\"><img src=\"https://colab.research.google.com/assets/colab-badge.svg\" alt=\"Open In Colab\"/></a>"
      ]
    },
    {
      "cell_type": "code",
      "execution_count": null,
      "metadata": {
        "colab": {
          "base_uri": "https://localhost:8080/"
        },
        "id": "6cPS90jRjRxL",
        "outputId": "91a09c11-4e4a-4022-cc50-d26b5278ec10"
      },
      "outputs": [
        {
          "output_type": "stream",
          "name": "stdout",
          "text": [
            "0x로 시작하는 16진수 문자 코드값을 입력하세요[끝내려면 엔터를 치세요]:0x61\n",
            "--> 코드값:0x61, 문자:\"a\"\n",
            "0x로 시작하는 16진수 문자 코드값을 입력하세요[끝내려면 엔터를 치세요]:0x03b2\n",
            "--> 코드값:0x03b2, 문자:\"β\"\n",
            "0x로 시작하는 16진수 문자 코드값을 입력하세요[끝내려면 엔터를 치세요]:0xac00\n",
            "--> 코드값:0xac00, 문자:\"가\"\n"
          ]
        }
      ],
      "source": [
        "#074 코드값에 대응하는 문자 얻기: chr()\n",
        "while True:\n",
        "  code = input('0x로 시작하는 16진수 문자 코드값을 입력하세요[끝내려면 엔터를 치세요]:')\n",
        "  if len(code) == 0:\n",
        "    break\n",
        "  unicode = int(code,16)\n",
        "  try:\n",
        "    ch = chr(unicode)\n",
        "    print(f'--> 코드값:{code}, 문자:\"{ch}\"')\n",
        "  except ValueError:\n",
        "    print(f'코드값{code}에 해당하는 문자가 존재하지 않습니다.')"
      ]
    },
    {
      "cell_type": "code",
      "source": [
        "#075 이스케이프 문자\n",
        "print('파이썬은 자바보다 쉽습니다.\\n그래서 나는 파이썬을 사랑합니다.')"
      ],
      "metadata": {
        "colab": {
          "base_uri": "https://localhost:8080/"
        },
        "id": "sFbcfZAYlMcg",
        "outputId": "6c635a8a-1b09-43e5-dd18-05406c894343"
      },
      "execution_count": 5,
      "outputs": [
        {
          "output_type": "stream",
          "name": "stdout",
          "text": [
            "파이썬은 자바보다 쉽습니다.\n",
            "그래서 나는 파이썬을 사랑합니다.\n"
          ]
        }
      ]
    },
    {
      "cell_type": "code",
      "source": [
        "text = '파이썬은 자바보다 쉽습니다.\\\n",
        "그래서 나는 파이썬을 사랑합니다.'\n",
        "print(text)"
      ],
      "metadata": {
        "colab": {
          "base_uri": "https://localhost:8080/"
        },
        "id": "iqYb3P6JmMUN",
        "outputId": "b301c52a-8195-40d5-ba62-cfc4024027ad"
      },
      "execution_count": 7,
      "outputs": [
        {
          "output_type": "stream",
          "name": "stdout",
          "text": [
            "파이썬은 자바보다 쉽습니다.그래서 나는 파이썬을 사랑합니다.\n"
          ]
        }
      ]
    },
    {
      "cell_type": "code",
      "source": [
        "print('이스케이프 문자 \"\\\\t\"는 탭을 의미합니다.')"
      ],
      "metadata": {
        "colab": {
          "base_uri": "https://localhost:8080/"
        },
        "id": "Jbui_FHcm9Hd",
        "outputId": "27bc0821-5e97-4ca8-d4a1-c439906fea00"
      },
      "execution_count": 9,
      "outputs": [
        {
          "output_type": "stream",
          "name": "stdout",
          "text": [
            "이스케이프 문자 \"\\t\"는 탭을 의미합니다.\n"
          ]
        }
      ]
    },
    {
      "cell_type": "code",
      "source": [
        "print('\\'파이썬\\'은 뱀의 한 종류입니다.')"
      ],
      "metadata": {
        "colab": {
          "base_uri": "https://localhost:8080/"
        },
        "id": "mF_HXlbdnJwN",
        "outputId": "fe63b6bc-b16a-4a07-e4c6-49068fe8ba23"
      },
      "execution_count": 10,
      "outputs": [
        {
          "output_type": "stream",
          "name": "stdout",
          "text": [
            "'파이썬'은 뱀의 한 종류입니다.\n"
          ]
        }
      ]
    }
  ]
}