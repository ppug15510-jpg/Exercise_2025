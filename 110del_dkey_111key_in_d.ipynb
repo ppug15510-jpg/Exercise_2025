{
  "nbformat": 4,
  "nbformat_minor": 0,
  "metadata": {
    "colab": {
      "provenance": [],
      "authorship_tag": "ABX9TyOALZgRcTeDYjFVIsUs7XQB",
      "include_colab_link": true
    },
    "kernelspec": {
      "name": "python3",
      "display_name": "Python 3"
    },
    "language_info": {
      "name": "python"
    }
  },
  "cells": [
    {
      "cell_type": "markdown",
      "metadata": {
        "id": "view-in-github",
        "colab_type": "text"
      },
      "source": [
        "<a href=\"https://colab.research.google.com/github/ppug15510-jpg/Exercise_2025/blob/main/110del_dkey_111key_in_d.ipynb\" target=\"_parent\"><img src=\"https://colab.research.google.com/assets/colab-badge.svg\" alt=\"Open In Colab\"/></a>"
      ]
    },
    {
      "cell_type": "code",
      "execution_count": 1,
      "metadata": {
        "colab": {
          "base_uri": "https://localhost:8080/"
        },
        "id": "T8WjjB8e3UkL",
        "outputId": "a343a930-8c40-4ce3-e747-1b66c9dd9b5d"
      },
      "outputs": [
        {
          "output_type": "stream",
          "name": "stdout",
          "text": [
            "{'Cris': 2111, 'Aimy': 9778, 'Tom': 20245}\n"
          ]
        }
      ],
      "source": [
        "#110 딕셔너리의 특정 요소 제거하기: del d[key]\n",
        "names = {'Mary':10999,'Cris':2111,'Aimy':9778,'Tom':20245}\n",
        "del names['Mary']\n",
        "print(names)"
      ]
    },
    {
      "cell_type": "code",
      "source": [
        "del names['Sams']"
      ],
      "metadata": {
        "colab": {
          "base_uri": "https://localhost:8080/",
          "height": 146
        },
        "id": "9u6RwE0j32v6",
        "outputId": "013b82fc-d3dc-40a8-eaba-bb8adee697d8"
      },
      "execution_count": 2,
      "outputs": [
        {
          "output_type": "error",
          "ename": "KeyError",
          "evalue": "'Sams'",
          "traceback": [
            "\u001b[0;31m---------------------------------------------------------------------------\u001b[0m",
            "\u001b[0;31mKeyError\u001b[0m                                  Traceback (most recent call last)",
            "\u001b[0;32m/tmp/ipython-input-3085454307.py\u001b[0m in \u001b[0;36m<cell line: 0>\u001b[0;34m()\u001b[0m\n\u001b[0;32m----> 1\u001b[0;31m \u001b[0;32mdel\u001b[0m \u001b[0mnames\u001b[0m\u001b[0;34m[\u001b[0m\u001b[0;34m'Sams'\u001b[0m\u001b[0;34m]\u001b[0m\u001b[0;34m\u001b[0m\u001b[0;34m\u001b[0m\u001b[0m\n\u001b[0m",
            "\u001b[0;31mKeyError\u001b[0m: 'Sams'"
          ]
        }
      ]
    },
    {
      "cell_type": "code",
      "source": [
        "#111 딕셔너리에 특정 키가 존재하는지 확인: key in d\n",
        "names = {'Mary':10999,'Cris':2111,'Aimy':9778,'Tom':20245}\n",
        "name = input('이름을 입력하세요: ')\n",
        "if name in names:\n",
        "  print(f'이름이 <{name}>인 출생아수는 <{names[name]:,d}>명입니다.')\n",
        "else:\n",
        "  print(f'딕셔너리 names에 <{name}>인 이름이 존재하지 않습니다.')"
      ],
      "metadata": {
        "colab": {
          "base_uri": "https://localhost:8080/"
        },
        "id": "DQXEt-W1363f",
        "outputId": "9ae5ef93-cca0-441b-9d22-091e9ae05fc7"
      },
      "execution_count": 5,
      "outputs": [
        {
          "output_type": "stream",
          "name": "stdout",
          "text": [
            "이름을 입력하세요: Cris\n",
            "이름이 <Cris>인 출생아수는 <2,111>명입니다.\n"
          ]
        }
      ]
    },
    {
      "cell_type": "code",
      "source": [
        "names = {'Mary':10999,'Cris':2111,'Aimy':9778,'Tom':20245}\n",
        "name = input('이름을 입력하세요: ')\n",
        "if name in names:\n",
        "  print(f'이름이 <{name}>인 출생아수는 <{names[name]:,d}>명입니다.')\n",
        "else:\n",
        "  print(f'딕셔너리 names에 <{name}>인 이름이 존재하지 않습니다.')"
      ],
      "metadata": {
        "colab": {
          "base_uri": "https://localhost:8080/"
        },
        "id": "_b74tUUV4_b4",
        "outputId": "6517728d-302b-476b-9232-c0960ed43f47"
      },
      "execution_count": 6,
      "outputs": [
        {
          "output_type": "stream",
          "name": "stdout",
          "text": [
            "이름을 입력하세요: Sams\n",
            "딕셔너리 names에 <Sams>인 이름이 존재하지 않습니다.\n"
          ]
        }
      ]
    }
  ]
}