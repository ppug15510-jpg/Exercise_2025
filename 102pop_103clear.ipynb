{
  "nbformat": 4,
  "nbformat_minor": 0,
  "metadata": {
    "colab": {
      "provenance": [],
      "authorship_tag": "ABX9TyOXmWfZzFSjZbGLqW746ihK",
      "include_colab_link": true
    },
    "kernelspec": {
      "name": "python3",
      "display_name": "Python 3"
    },
    "language_info": {
      "name": "python"
    }
  },
  "cells": [
    {
      "cell_type": "markdown",
      "metadata": {
        "id": "view-in-github",
        "colab_type": "text"
      },
      "source": [
        "<a href=\"https://colab.research.google.com/github/ppug15510-jpg/Exercise_2025/blob/main/102pop_103clear.ipynb\" target=\"_parent\"><img src=\"https://colab.research.google.com/assets/colab-badge.svg\" alt=\"Open In Colab\"/></a>"
      ]
    },
    {
      "cell_type": "code",
      "execution_count": 1,
      "metadata": {
        "colab": {
          "base_uri": "https://localhost:8080/"
        },
        "id": "4Ou7cja9bwQ5",
        "outputId": "6e803a8b-4166-41f3-e31e-5c7303f48175"
      },
      "outputs": [
        {
          "output_type": "stream",
          "name": "stdout",
          "text": [
            "++ 추출한 요소: 오렌지\n",
            "++ fruits: {'수박', '사과', '배'}\n"
          ]
        }
      ],
      "source": [
        "#102 set에서 랜덤 요소 추출: set.pop()\n",
        "fruits = {'사과','배','오렌지','수박'}\n",
        "choise = fruits.pop()\n",
        "print(f'++ 추출한 요소: {choise}\\n++ fruits: {fruits}')"
      ]
    },
    {
      "cell_type": "code",
      "source": [
        "for _ in range(len(fruits)):\n",
        "  choise = fruits.pop()\n",
        "  print(f'++ 추출한 요소: {choise}\\n++ fruits: {fruits}')\n",
        "choise = fruits.pop()"
      ],
      "metadata": {
        "colab": {
          "base_uri": "https://localhost:8080/",
          "height": 291
        },
        "id": "wQzEyyhZc8Pe",
        "outputId": "805eaa57-05f9-44da-8f7e-4495a8e8041e"
      },
      "execution_count": 2,
      "outputs": [
        {
          "output_type": "stream",
          "name": "stdout",
          "text": [
            "++ 추출한 요소: 수박\n",
            "++ fruits: {'사과', '배'}\n",
            "++ 추출한 요소: 사과\n",
            "++ fruits: {'배'}\n",
            "++ 추출한 요소: 배\n",
            "++ fruits: set()\n"
          ]
        },
        {
          "output_type": "error",
          "ename": "KeyError",
          "evalue": "'pop from an empty set'",
          "traceback": [
            "\u001b[0;31m---------------------------------------------------------------------------\u001b[0m",
            "\u001b[0;31mKeyError\u001b[0m                                  Traceback (most recent call last)",
            "\u001b[0;32m/tmp/ipython-input-605584392.py\u001b[0m in \u001b[0;36m<cell line: 0>\u001b[0;34m()\u001b[0m\n\u001b[1;32m      2\u001b[0m   \u001b[0mchoise\u001b[0m \u001b[0;34m=\u001b[0m \u001b[0mfruits\u001b[0m\u001b[0;34m.\u001b[0m\u001b[0mpop\u001b[0m\u001b[0;34m(\u001b[0m\u001b[0;34m)\u001b[0m\u001b[0;34m\u001b[0m\u001b[0;34m\u001b[0m\u001b[0m\n\u001b[1;32m      3\u001b[0m   \u001b[0mprint\u001b[0m\u001b[0;34m(\u001b[0m\u001b[0;34mf'++ 추출한 요소: {choise}\\n++ fruits: {fruits}'\u001b[0m\u001b[0;34m)\u001b[0m\u001b[0;34m\u001b[0m\u001b[0;34m\u001b[0m\u001b[0m\n\u001b[0;32m----> 4\u001b[0;31m \u001b[0mchoise\u001b[0m \u001b[0;34m=\u001b[0m \u001b[0mfruits\u001b[0m\u001b[0;34m.\u001b[0m\u001b[0mpop\u001b[0m\u001b[0;34m(\u001b[0m\u001b[0;34m)\u001b[0m\u001b[0;34m\u001b[0m\u001b[0;34m\u001b[0m\u001b[0m\n\u001b[0m",
            "\u001b[0;31mKeyError\u001b[0m: 'pop from an empty set'"
          ]
        }
      ]
    },
    {
      "cell_type": "code",
      "source": [
        "#103 set의 모든 요소 제거: set.clear()\n",
        "set1 = set('abradacabra')\n",
        "set2 = set('arirangsong')\n",
        "set1 &= set2\n",
        "set2.clear()\n",
        "print(f'set1={set1}, set2={set2}')"
      ],
      "metadata": {
        "colab": {
          "base_uri": "https://localhost:8080/"
        },
        "id": "oPmtNpc2ddMJ",
        "outputId": "e2a389d7-29de-440f-ad48-f6d7d0ca7267"
      },
      "execution_count": 3,
      "outputs": [
        {
          "output_type": "stream",
          "name": "stdout",
          "text": [
            "set1={'a', 'r'}, set2=set()\n"
          ]
        }
      ]
    }
  ]
}