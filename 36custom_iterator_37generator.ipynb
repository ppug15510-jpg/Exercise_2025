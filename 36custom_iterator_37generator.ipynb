{
  "nbformat": 4,
  "nbformat_minor": 0,
  "metadata": {
    "colab": {
      "provenance": [],
      "authorship_tag": "ABX9TyMj+XiV9irKf4+JhXFlIcky",
      "include_colab_link": true
    },
    "kernelspec": {
      "name": "python3",
      "display_name": "Python 3"
    },
    "language_info": {
      "name": "python"
    }
  },
  "cells": [
    {
      "cell_type": "markdown",
      "metadata": {
        "id": "view-in-github",
        "colab_type": "text"
      },
      "source": [
        "<a href=\"https://colab.research.google.com/github/ppug15510-jpg/Exercise_2025/blob/main/36custom_iterator_37generator.ipynb\" target=\"_parent\"><img src=\"https://colab.research.google.com/assets/colab-badge.svg\" alt=\"Open In Colab\"/></a>"
      ]
    },
    {
      "cell_type": "code",
      "execution_count": 1,
      "metadata": {
        "colab": {
          "base_uri": "https://localhost:8080/"
        },
        "id": "5AAN_0WF6pT3",
        "outputId": "556e451c-fedf-487e-a203-230b4ec3dba6"
      },
      "outputs": [
        {
          "output_type": "stream",
          "name": "stdout",
          "text": [
            "0 1 2 3 4 "
          ]
        }
      ],
      "source": [
        "#036 사용자 정의 이터레이터 만들기\n",
        "class MyRange:\n",
        "  def __init__(self, n):\n",
        "    self.maxn = n\n",
        "    self.current = 0\n",
        "\n",
        "  def __iter__(self):\n",
        "    return self\n",
        "\n",
        "  def __next__(self):\n",
        "    if self.current >= self.maxn:\n",
        "      raise StopIteration\n",
        "    else:\n",
        "      ret = self.current\n",
        "      self.current += 1\n",
        "      return ret\n",
        "\n",
        "intList = MyRange(5)\n",
        "for i in intList:\n",
        "  print(i, end=' ')"
      ]
    },
    {
      "cell_type": "code",
      "source": [
        "#037 제너레이터 이해하기\n",
        "def MyRange(n):\n",
        "  current = 0\n",
        "  while current < n:\n",
        "    yield current\n",
        "    current += 1\n",
        "\n",
        "#제너레이터 객체 생성\n",
        "intList = MyRange(5)\n",
        "for i in intList:\n",
        "  print(i, end=', ')"
      ],
      "metadata": {
        "colab": {
          "base_uri": "https://localhost:8080/"
        },
        "id": "enyh82lx8uDR",
        "outputId": "5e3c2150-07ca-49d0-aa99-5ce72a447a67"
      },
      "execution_count": 3,
      "outputs": [
        {
          "output_type": "stream",
          "name": "stdout",
          "text": [
            "0, 1, 2, 3, 4, "
          ]
        }
      ]
    }
  ]
}