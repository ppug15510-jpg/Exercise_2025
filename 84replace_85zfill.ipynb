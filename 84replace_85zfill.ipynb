{
  "nbformat": 4,
  "nbformat_minor": 0,
  "metadata": {
    "colab": {
      "provenance": [],
      "authorship_tag": "ABX9TyP+jnTEUAW7ruSKRkcxPT92",
      "include_colab_link": true
    },
    "kernelspec": {
      "name": "python3",
      "display_name": "Python 3"
    },
    "language_info": {
      "name": "python"
    }
  },
  "cells": [
    {
      "cell_type": "markdown",
      "metadata": {
        "id": "view-in-github",
        "colab_type": "text"
      },
      "source": [
        "<a href=\"https://colab.research.google.com/github/ppug15510-jpg/Exercise_2025/blob/main/84replace_85zfill.ipynb\" target=\"_parent\"><img src=\"https://colab.research.google.com/assets/colab-badge.svg\" alt=\"Open In Colab\"/></a>"
      ]
    },
    {
      "cell_type": "code",
      "execution_count": 1,
      "metadata": {
        "colab": {
          "base_uri": "https://localhost:8080/"
        },
        "id": "Pv7SN7zlGlRH",
        "outputId": "b9b8337f-c3b4-493a-a0fb-5fb9dac3d172"
      },
      "outputs": [
        {
          "output_type": "stream",
          "name": "stdout",
          "text": [
            "텍스트: 파이썬에서 시퀀스 자료 중 하나임\n"
          ]
        }
      ],
      "source": [
        "#084 문자열에서 특정 문자열을 다른 문자열로 바꾸기: str.replace()\n",
        "text = '문자열: 파이썬에서 시퀀스 자료 중 하나임'\n",
        "ret = text.replace('문자열','텍스트')\n",
        "print(ret)"
      ]
    },
    {
      "cell_type": "code",
      "source": [
        "text = '매일 많은 일들이 일어납니다.'\n",
        "ret = text.replace('일','사건')\n",
        "print(ret)"
      ],
      "metadata": {
        "colab": {
          "base_uri": "https://localhost:8080/"
        },
        "id": "rnAcVB9HVDUA",
        "outputId": "97b85357-421a-4fb3-afa1-915ffa66476f"
      },
      "execution_count": 2,
      "outputs": [
        {
          "output_type": "stream",
          "name": "stdout",
          "text": [
            "매사건 많은 사건들이 사건어납니다.\n"
          ]
        }
      ]
    },
    {
      "cell_type": "code",
      "source": [
        "#085 문자열의 왼쪽을 0으로 채우기: str.zfill()\n",
        "numData = ['5','27','342','1004']\n",
        "for numstr in numData:\n",
        "  ret = numstr.zfill(4)\n",
        "  print(ret)"
      ],
      "metadata": {
        "colab": {
          "base_uri": "https://localhost:8080/"
        },
        "id": "QQmqwRiWVUV-",
        "outputId": "12c6ccae-c6fe-4efd-aa46-fda6d5499f09"
      },
      "execution_count": 3,
      "outputs": [
        {
          "output_type": "stream",
          "name": "stdout",
          "text": [
            "0005\n",
            "0027\n",
            "0342\n",
            "1004\n"
          ]
        }
      ]
    },
    {
      "cell_type": "code",
      "source": [
        "numData = ['-5','-27','-342','-1004']\n",
        "for numstr in numData:\n",
        "  ret = numstr.zfill(4)\n",
        "  print(ret)"
      ],
      "metadata": {
        "colab": {
          "base_uri": "https://localhost:8080/"
        },
        "id": "cZfblNejVrzZ",
        "outputId": "66a7296a-883f-4be9-a2a7-7bf5560e86ff"
      },
      "execution_count": 4,
      "outputs": [
        {
          "output_type": "stream",
          "name": "stdout",
          "text": [
            "-005\n",
            "-027\n",
            "-342\n",
            "-1004\n"
          ]
        }
      ]
    }
  ]
}