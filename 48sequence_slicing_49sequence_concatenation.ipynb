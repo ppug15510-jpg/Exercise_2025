{
  "nbformat": 4,
  "nbformat_minor": 0,
  "metadata": {
    "colab": {
      "provenance": [],
      "authorship_tag": "ABX9TyN6suXzJnaB23w/T2HHxG65",
      "include_colab_link": true
    },
    "kernelspec": {
      "name": "python3",
      "display_name": "Python 3"
    },
    "language_info": {
      "name": "python"
    }
  },
  "cells": [
    {
      "cell_type": "markdown",
      "metadata": {
        "id": "view-in-github",
        "colab_type": "text"
      },
      "source": [
        "<a href=\"https://colab.research.google.com/github/ppug15510-jpg/Exercise_2025/blob/main/48sequence_slicing_49sequence_concatenation.ipynb\" target=\"_parent\"><img src=\"https://colab.research.google.com/assets/colab-badge.svg\" alt=\"Open In Colab\"/></a>"
      ]
    },
    {
      "cell_type": "code",
      "execution_count": 1,
      "metadata": {
        "colab": {
          "base_uri": "https://localhost:8080/"
        },
        "id": "CS1F4OQJBmym",
        "outputId": "bf28a24a-bab1-4c23-ff14-d4ffef762d02"
      },
      "outputs": [
        {
          "output_type": "stream",
          "name": "stdout",
          "text": [
            "s mo\n"
          ]
        }
      ],
      "source": [
        "#048 시퀀스 자료 슬라이싱: s[i:j]\n",
        "wise_saying = \"Time is money! Don't waste your time!\"\n",
        "print(wise_saying[6:10])"
      ]
    },
    {
      "cell_type": "code",
      "source": [
        "print(wise_saying[:5])"
      ],
      "metadata": {
        "colab": {
          "base_uri": "https://localhost:8080/"
        },
        "id": "mJ6_2I0HDLzU",
        "outputId": "4834fc02-37ad-4ab6-de44-6ce343b92a16"
      },
      "execution_count": 2,
      "outputs": [
        {
          "output_type": "stream",
          "name": "stdout",
          "text": [
            "Time \n"
          ]
        }
      ]
    },
    {
      "cell_type": "code",
      "source": [
        "print(wise_saying[15:])"
      ],
      "metadata": {
        "colab": {
          "base_uri": "https://localhost:8080/"
        },
        "id": "jHMnbI-zDcZJ",
        "outputId": "1591c0cd-b8ed-484e-9255-0b156a66e9f8"
      },
      "execution_count": 3,
      "outputs": [
        {
          "output_type": "stream",
          "name": "stdout",
          "text": [
            "Don't waste your time!\n"
          ]
        }
      ]
    },
    {
      "cell_type": "code",
      "source": [
        "print(wise_saying[:-1])"
      ],
      "metadata": {
        "colab": {
          "base_uri": "https://localhost:8080/"
        },
        "id": "3OuINkHvDixK",
        "outputId": "175a9512-951d-44f0-edd1-2b82a4038347"
      },
      "execution_count": 4,
      "outputs": [
        {
          "output_type": "stream",
          "name": "stdout",
          "text": [
            "Time is money! Don't waste your time\n"
          ]
        }
      ]
    },
    {
      "cell_type": "code",
      "source": [
        "print(wise_saying[-5:])"
      ],
      "metadata": {
        "colab": {
          "base_uri": "https://localhost:8080/"
        },
        "id": "2ri_DpV-Dtr5",
        "outputId": "336ba5c4-0b42-4b97-b999-b73603f25417"
      },
      "execution_count": 6,
      "outputs": [
        {
          "output_type": "stream",
          "name": "stdout",
          "text": [
            "time!\n"
          ]
        }
      ]
    },
    {
      "cell_type": "code",
      "source": [
        "print(wise_saying[:])"
      ],
      "metadata": {
        "colab": {
          "base_uri": "https://localhost:8080/"
        },
        "id": "38RF7I24Dzip",
        "outputId": "00486c43-c357-4161-b3d9-437d5fa2cb27"
      },
      "execution_count": 7,
      "outputs": [
        {
          "output_type": "stream",
          "name": "stdout",
          "text": [
            "Time is money! Don't waste your time!\n"
          ]
        }
      ]
    },
    {
      "cell_type": "code",
      "source": [
        "intList = [0,1,2,3,4,5,6,7,8,9]\n",
        "print(intList[::2])"
      ],
      "metadata": {
        "colab": {
          "base_uri": "https://localhost:8080/"
        },
        "id": "WBiKV66vD68P",
        "outputId": "1b929eb4-1872-4285-bdef-ad6dcb846a88"
      },
      "execution_count": 8,
      "outputs": [
        {
          "output_type": "stream",
          "name": "stdout",
          "text": [
            "[0, 2, 4, 6, 8]\n"
          ]
        }
      ]
    },
    {
      "cell_type": "code",
      "source": [
        "print(intList[1::2])"
      ],
      "metadata": {
        "colab": {
          "base_uri": "https://localhost:8080/"
        },
        "id": "qTFJxlCoEIhT",
        "outputId": "937ed14e-a8e0-4767-fcd7-fdeda31b4e1e"
      },
      "execution_count": 9,
      "outputs": [
        {
          "output_type": "stream",
          "name": "stdout",
          "text": [
            "[1, 3, 5, 7, 9]\n"
          ]
        }
      ]
    },
    {
      "cell_type": "code",
      "source": [
        "#049 시퀀스 자료 연결/반복: +,*\n",
        "url1 = 'https://blog.naver.com/'\n",
        "url2 = 'samsjang'\n",
        "print(url1 + url2)"
      ],
      "metadata": {
        "colab": {
          "base_uri": "https://localhost:8080/"
        },
        "id": "1JJZWfYwERh4",
        "outputId": "23a30d4c-4762-4d9b-a98b-3d824a66cbab"
      },
      "execution_count": 10,
      "outputs": [
        {
          "output_type": "stream",
          "name": "stdout",
          "text": [
            "https://blog.naver.com/samsjang\n"
          ]
        }
      ]
    },
    {
      "cell_type": "code",
      "source": [
        "list1 = [0,1,2]\n",
        "list2 = [3,4,5]\n",
        "print(list1 + list2)"
      ],
      "metadata": {
        "colab": {
          "base_uri": "https://localhost:8080/"
        },
        "id": "2Ae0ZgCPExBJ",
        "outputId": "d0c991ed-8529-495d-e2f7-e4fdfe3e382f"
      },
      "execution_count": 11,
      "outputs": [
        {
          "output_type": "stream",
          "name": "stdout",
          "text": [
            "[0, 1, 2, 3, 4, 5]\n"
          ]
        }
      ]
    },
    {
      "cell_type": "code",
      "source": [
        "print(list2 + list1)"
      ],
      "metadata": {
        "colab": {
          "base_uri": "https://localhost:8080/"
        },
        "id": "RMJs-qoME8P6",
        "outputId": "c57abd30-9187-4c79-95ad-6f9a364d2f79"
      },
      "execution_count": 12,
      "outputs": [
        {
          "output_type": "stream",
          "name": "stdout",
          "text": [
            "[3, 4, 5, 0, 1, 2]\n"
          ]
        }
      ]
    },
    {
      "cell_type": "code",
      "source": [
        "listData = [0,1,2]\n",
        "strData = '시퀀스 자료의 연결'\n",
        "print(listData + strData)"
      ],
      "metadata": {
        "colab": {
          "base_uri": "https://localhost:8080/",
          "height": 184
        },
        "id": "KsJC0pxMFCGO",
        "outputId": "7fd0d002-7f51-4c7f-b8fc-3fddaa596d02"
      },
      "execution_count": 13,
      "outputs": [
        {
          "output_type": "error",
          "ename": "TypeError",
          "evalue": "can only concatenate list (not \"str\") to list",
          "traceback": [
            "\u001b[0;31m---------------------------------------------------------------------------\u001b[0m",
            "\u001b[0;31mTypeError\u001b[0m                                 Traceback (most recent call last)",
            "\u001b[0;32m/tmp/ipython-input-557473247.py\u001b[0m in \u001b[0;36m<cell line: 0>\u001b[0;34m()\u001b[0m\n\u001b[1;32m      1\u001b[0m \u001b[0mlistData\u001b[0m \u001b[0;34m=\u001b[0m \u001b[0;34m[\u001b[0m\u001b[0;36m0\u001b[0m\u001b[0;34m,\u001b[0m\u001b[0;36m1\u001b[0m\u001b[0;34m,\u001b[0m\u001b[0;36m2\u001b[0m\u001b[0;34m]\u001b[0m\u001b[0;34m\u001b[0m\u001b[0;34m\u001b[0m\u001b[0m\n\u001b[1;32m      2\u001b[0m \u001b[0mstrData\u001b[0m \u001b[0;34m=\u001b[0m \u001b[0;34m'시퀀스 자료의 연결'\u001b[0m\u001b[0;34m\u001b[0m\u001b[0;34m\u001b[0m\u001b[0m\n\u001b[0;32m----> 3\u001b[0;31m \u001b[0mprint\u001b[0m\u001b[0;34m(\u001b[0m\u001b[0mlistData\u001b[0m \u001b[0;34m+\u001b[0m \u001b[0mstrData\u001b[0m\u001b[0;34m)\u001b[0m\u001b[0;34m\u001b[0m\u001b[0;34m\u001b[0m\u001b[0m\n\u001b[0m",
            "\u001b[0;31mTypeError\u001b[0m: can only concatenate list (not \"str\") to list"
          ]
        }
      ]
    },
    {
      "cell_type": "code",
      "source": [
        "lyrics1 = '빗소리만 하얗게 나를 '\n",
        "lyrics2 = '감싸네~'\n",
        "print(lyrics1 + lyrics2*3)"
      ],
      "metadata": {
        "colab": {
          "base_uri": "https://localhost:8080/"
        },
        "id": "ofaB5aqCFTmT",
        "outputId": "ccdf69cc-03a6-45f1-80f7-20a9d6a94995"
      },
      "execution_count": 14,
      "outputs": [
        {
          "output_type": "stream",
          "name": "stdout",
          "text": [
            "빗소리만 하얗게 나를 감싸네~감싸네~감싸네~\n"
          ]
        }
      ]
    },
    {
      "cell_type": "code",
      "source": [
        "listData = [1,2,3]\n",
        "print(listData*5)"
      ],
      "metadata": {
        "colab": {
          "base_uri": "https://localhost:8080/"
        },
        "id": "LTlTjxG4FrFB",
        "outputId": "15031593-47a2-4b7f-90c7-ecfafac66a75"
      },
      "execution_count": 15,
      "outputs": [
        {
          "output_type": "stream",
          "name": "stdout",
          "text": [
            "[1, 2, 3, 1, 2, 3, 1, 2, 3, 1, 2, 3, 1, 2, 3]\n"
          ]
        }
      ]
    }
  ]
}