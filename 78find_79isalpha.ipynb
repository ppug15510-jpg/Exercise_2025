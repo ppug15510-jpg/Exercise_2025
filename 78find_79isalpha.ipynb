{
  "nbformat": 4,
  "nbformat_minor": 0,
  "metadata": {
    "colab": {
      "provenance": [],
      "authorship_tag": "ABX9TyMFkU+45o1A+fB4Tz2IQDdX",
      "include_colab_link": true
    },
    "kernelspec": {
      "name": "python3",
      "display_name": "Python 3"
    },
    "language_info": {
      "name": "python"
    }
  },
  "cells": [
    {
      "cell_type": "markdown",
      "metadata": {
        "id": "view-in-github",
        "colab_type": "text"
      },
      "source": [
        "<a href=\"https://colab.research.google.com/github/ppug15510-jpg/Exercise_2025/blob/main/78find_79isalpha.ipynb\" target=\"_parent\"><img src=\"https://colab.research.google.com/assets/colab-badge.svg\" alt=\"Open In Colab\"/></a>"
      ]
    },
    {
      "cell_type": "code",
      "execution_count": 3,
      "metadata": {
        "colab": {
          "base_uri": "https://localhost:8080/"
        },
        "id": "sBCq3i0SER7p",
        "outputId": "b7bfbb1f-7a57-45a9-bb78-6a5c7e1e2ae4"
      },
      "outputs": [
        {
          "output_type": "stream",
          "name": "stdout",
          "text": [
            "27\n"
          ]
        }
      ],
      "source": [
        "#078 문자열에서 특정 문자열 위치 찾기: str.find()\n",
        "sample = 'A lot of things occur each day, it\\'s very dynamical every day.'\n",
        "pos = sample.find('day')\n",
        "print(pos)"
      ]
    },
    {
      "cell_type": "code",
      "source": [
        "spos = 0 # find()가 대상을 찾기 시작할 인덱스\n",
        "idx = 0 # 대상이 위치하는 인덱스\n",
        "count = 1\n",
        "while idx != -1:\n",
        "  idx = sample.find('day',spos)\n",
        "  print(f'\"day\"가 발견된 [{count}]번째 인덱스 {idx}')\n",
        "  spos = idx + 1 #find()가 대상을 찾기 시작할 인덱스 수정\n",
        "  count += 1"
      ],
      "metadata": {
        "colab": {
          "base_uri": "https://localhost:8080/"
        },
        "id": "qqCScwlyFBNk",
        "outputId": "3ce2ec13-f0a8-4605-f36b-956d4680d5c4"
      },
      "execution_count": 4,
      "outputs": [
        {
          "output_type": "stream",
          "name": "stdout",
          "text": [
            "\"day\"가 발견된 [1]번째 인덱스 27\n",
            "\"day\"가 발견된 [2]번째 인덱스 58\n",
            "\"day\"가 발견된 [3]번째 인덱스 -1\n"
          ]
        }
      ]
    },
    {
      "cell_type": "code",
      "source": [
        "#079 문자열이 언어 문자로만 구성되었는지 확인: str.isalpha()\n",
        "strList = ['Hello','오징어게임','파이썬 lover','안녕!','제3세계']"
      ],
      "metadata": {
        "id": "LxDoolqsHQhq"
      },
      "execution_count": 5,
      "outputs": []
    },
    {
      "cell_type": "code",
      "source": [
        "for text in strList:\n",
        "  print(f'\"{text}\" \\t--> {text.isalpha()}')"
      ],
      "metadata": {
        "colab": {
          "base_uri": "https://localhost:8080/"
        },
        "id": "WBkvOxWwIYV7",
        "outputId": "01ee90c8-ec7b-45e4-bc2c-a3708b40149b"
      },
      "execution_count": 7,
      "outputs": [
        {
          "output_type": "stream",
          "name": "stdout",
          "text": [
            "\"Hello\" \t--> True\n",
            "\"오징어게임\" \t--> True\n",
            "\"파이썬 lover\" \t--> False\n",
            "\"안녕!\" \t--> False\n",
            "\"제3세계\" \t--> False\n"
          ]
        }
      ]
    }
  ]
}