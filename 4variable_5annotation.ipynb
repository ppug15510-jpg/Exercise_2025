{
  "nbformat": 4,
  "nbformat_minor": 0,
  "metadata": {
    "colab": {
      "provenance": [],
      "authorship_tag": "ABX9TyP1xGXO1iEl614Ijb/bJsjG",
      "include_colab_link": true
    },
    "kernelspec": {
      "name": "python3",
      "display_name": "Python 3"
    },
    "language_info": {
      "name": "python"
    }
  },
  "cells": [
    {
      "cell_type": "markdown",
      "metadata": {
        "id": "view-in-github",
        "colab_type": "text"
      },
      "source": [
        "<a href=\"https://colab.research.google.com/github/ppug15510-jpg/Exercise_2025/blob/main/4variable_5annotation.ipynb\" target=\"_parent\"><img src=\"https://colab.research.google.com/assets/colab-badge.svg\" alt=\"Open In Colab\"/></a>"
      ]
    },
    {
      "cell_type": "code",
      "execution_count": 3,
      "metadata": {
        "id": "FdyEw6C-iy2C"
      },
      "outputs": [],
      "source": [
        "#004 변수\n",
        "_myname = 'samsjang'\n",
        "my_name = '홍길동'\n",
        "MyName3 = 'Hong gil-dong'\n",
        "contry = '대한민국'"
      ]
    },
    {
      "cell_type": "code",
      "source": [
        "counter = 1\n",
        "counter = 2 #counter와는 다른 변수임"
      ],
      "metadata": {
        "id": "Dj0Avw9Rj0t5"
      },
      "execution_count": 2,
      "outputs": []
    },
    {
      "cell_type": "code",
      "source": [
        "intdata = 1\n",
        "pi = 3.14\n",
        "flag = True"
      ],
      "metadata": {
        "id": "ybzUq8-EkDl7"
      },
      "execution_count": 1,
      "outputs": []
    },
    {
      "cell_type": "code",
      "source": [
        "ch = 'x'\n",
        "strData = '사랑해요 파이썬!'"
      ],
      "metadata": {
        "id": "vAswsq72kqg7"
      },
      "execution_count": null,
      "outputs": []
    },
    {
      "cell_type": "code",
      "source": [
        "buffer = 1\n",
        "buffer + 2"
      ],
      "metadata": {
        "colab": {
          "base_uri": "https://localhost:8080/"
        },
        "id": "TDlelZTPk1G8",
        "outputId": "ec4152c5-6670-4b94-e0fe-ba34fff1df50"
      },
      "execution_count": 4,
      "outputs": [
        {
          "output_type": "execute_result",
          "data": {
            "text/plain": [
              "3"
            ]
          },
          "metadata": {},
          "execution_count": 4
        }
      ]
    },
    {
      "cell_type": "code",
      "source": [
        "buffer = 'three'\n",
        "buffer"
      ],
      "metadata": {
        "colab": {
          "base_uri": "https://localhost:8080/",
          "height": 35
        },
        "id": "iAOut1JGlNUo",
        "outputId": "bfa4c13a-99e9-44ac-c604-a06c0b6531c7"
      },
      "execution_count": 6,
      "outputs": [
        {
          "output_type": "execute_result",
          "data": {
            "text/plain": [
              "'three'"
            ],
            "application/vnd.google.colaboratory.intrinsic+json": {
              "type": "string"
            }
          },
          "metadata": {},
          "execution_count": 6
        }
      ]
    },
    {
      "cell_type": "code",
      "source": [
        "#005 주석 처리하기\n",
        "\n",
        "### 주석처리 예시\n",
        "### 만든 날짜: 2024.12.30\n",
        "\n",
        "a=1 #a에 1을 할당\n",
        "b=5 #b에 5을 할당\n",
        "print(a+b) #a+b의 값을 출력"
      ],
      "metadata": {
        "colab": {
          "base_uri": "https://localhost:8080/"
        },
        "id": "yVCdN9aDlUFB",
        "outputId": "28a828c1-e9a5-49bb-c6c7-645290a2f1ad"
      },
      "execution_count": 7,
      "outputs": [
        {
          "output_type": "stream",
          "name": "stdout",
          "text": [
            "6\n"
          ]
        }
      ]
    },
    {
      "cell_type": "code",
      "source": [
        "comment = 'Result ='\n",
        "# 삼중 따옴표로 특정 영역 주석 처리 예시\n",
        "\"\"\"a = 1\n",
        "b = 100\n",
        "print(a+b)\"\"\"\n",
        "a=5\n",
        "b=50\n",
        "print(comment, a+b)"
      ],
      "metadata": {
        "colab": {
          "base_uri": "https://localhost:8080/"
        },
        "id": "StBduA0Rl30m",
        "outputId": "a8ac69df-8bad-461b-c044-a573a56a4787"
      },
      "execution_count": 9,
      "outputs": [
        {
          "output_type": "stream",
          "name": "stdout",
          "text": [
            "Result = 55\n"
          ]
        }
      ]
    }
  ]
}