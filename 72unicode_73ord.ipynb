{
  "nbformat": 4,
  "nbformat_minor": 0,
  "metadata": {
    "colab": {
      "provenance": [],
      "authorship_tag": "ABX9TyOU7DO+aMoE0qLCXf2y6gk5",
      "include_colab_link": true
    },
    "kernelspec": {
      "name": "python3",
      "display_name": "Python 3"
    },
    "language_info": {
      "name": "python"
    }
  },
  "cells": [
    {
      "cell_type": "markdown",
      "metadata": {
        "id": "view-in-github",
        "colab_type": "text"
      },
      "source": [
        "<a href=\"https://colab.research.google.com/github/ppug15510-jpg/Exercise_2025/blob/main/72unicode_73ord.ipynb\" target=\"_parent\"><img src=\"https://colab.research.google.com/assets/colab-badge.svg\" alt=\"Open In Colab\"/></a>"
      ]
    },
    {
      "cell_type": "code",
      "execution_count": 1,
      "metadata": {
        "id": "HSN2SB5iFQcC"
      },
      "outputs": [],
      "source": [
        "#072 유니코드 문자열\n",
        "strData1 = 'I love python!' #유니코드 문자열\n",
        "strData2 = \"사랑해요 파이썬!\" #유니코드 문자열\n",
        "strData3 = \"\"\"A lot of things\n",
        "occur each day.\"\"\" #유니코드 문자열"
      ]
    },
    {
      "cell_type": "code",
      "source": [
        "#073 문자 코드값 구하기: ord()\n",
        "while True:\n",
        "  ch = input('문자 1개를 입력하세요[끝내려면 엔터를 치세요]: ')\n",
        "  if len(ch) == 0:\n",
        "    break\n",
        "  ch = ch[0]\n",
        "  code = ord(ch)\n",
        "  print(f'--> 문자\"{ch}\"의 코드값:{hex(code)}')"
      ],
      "metadata": {
        "colab": {
          "base_uri": "https://localhost:8080/"
        },
        "id": "hTk7kWjjGcmJ",
        "outputId": "2db21861-f9a7-490f-8de3-6ab2940e95f1"
      },
      "execution_count": null,
      "outputs": [
        {
          "output_type": "stream",
          "name": "stdout",
          "text": [
            "문자 1개를 입력하세요[끝내려면 엔터를 치세요]: A\n",
            "--> 문자\"A\"의 코드값:0x41\n",
            "문자 1개를 입력하세요[끝내려면 엔터를 치세요]: 가\n",
            "--> 문자\"가\"의 코드값:0xac00\n",
            "문자 1개를 입력하세요[끝내려면 엔터를 치세요]: @\n",
            "--> 문자\"@\"의 코드값:0x40\n"
          ]
        }
      ]
    }
  ]
}