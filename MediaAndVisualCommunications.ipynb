{
  "nbformat": 4,
  "nbformat_minor": 0,
  "metadata": {
    "colab": {
      "provenance": [],
      "include_colab_link": true
    },
    "kernelspec": {
      "name": "python3",
      "display_name": "Python 3"
    },
    "language_info": {
      "name": "python"
    }
  },
  "cells": [
    {
      "cell_type": "markdown",
      "metadata": {
        "id": "view-in-github",
        "colab_type": "text"
      },
      "source": [
        "<a href=\"https://colab.research.google.com/github/ppug15510-jpg/Exercise_2025/blob/main/MediaAndVisualCommunications.ipynb\" target=\"_parent\"><img src=\"https://colab.research.google.com/assets/colab-badge.svg\" alt=\"Open In Colab\"/></a>"
      ]
    },
    {
      "cell_type": "markdown",
      "source": [
        "# 🎥 **한남대 <font color = 'blue'>미디어 영상 학과**\n",
        "####Dept. of <font color = 'red'>Media</font> and <font color = 'red'>Visual Communications 🍀"
      ],
      "metadata": {
        "id": "BKFomvPTiayQ"
      }
    },
    {
      "cell_type": "markdown",
      "source": [
        "###**관련 사이트** ✈\n",
        "\n",
        "📌([미디어 영상 학과 홈페이지](https://www.hannam.ac.kr/kor/educate/educate_0103_11.html))\n",
        "#####\n",
        "📌([미디어 영상 학과 인스타그램](https://www.instagram.com/hnumedia))"
      ],
      "metadata": {
        "id": "isPTMSA86yQc"
      }
    },
    {
      "cell_type": "markdown",
      "source": [
        "#<font color = 'green'>**미디어영상학과 소개**\n",
        "* 4차 산업혁명 시대에 인문·기술·예술 융합이 생활 전반으로 확산되며 첨단 뉴미디어 콘텐츠 산업이 성장하고 있다. 이에 <font color = 'brawn'>**한남대 미디어영상학과**</font>는 변화하는 글로벌 미디어 환경에 대응할 기획력·창의력·제작능력을 갖춘 전문가 양성을 목표로 한다.\n",
        "\n",
        " 🔖*인사례교양동 (건물번호 11) 4층 110415호*\n",
        "\n",
        " 📞*042-629-8382*"
      ],
      "metadata": {
        "id": "bVGcLubwOfZU"
      }
    },
    {
      "cell_type": "markdown",
      "source": [
        "##**<font color = 'orange'>진로**\n",
        "\n",
        "- **개발자** 💻\n",
        "- **광고홍보** 📢\n",
        "  * 온라인·오프라인 마케팅\n",
        "- **디자인** 🎨\n",
        "  * 모션 그래픽\n",
        "  * UX/UI\n",
        "- **XR/메타버스** 👾\n",
        "  * 실감형 콘텐츠\n",
        "- **방송사** 📹\n",
        "- **제작사** 📼\n",
        "  * 드라마\n",
        "  * 단편영화"
      ],
      "metadata": {
        "id": "smX4AKWn8PtE"
      }
    },
    {
      "cell_type": "markdown",
      "source": [
        "##<font color = 'purple'>**교육과정**</font>\n",
        "|  #  |  학년  |  교육과정  |\n",
        "|  :--:  |  :--:  |  :--:  |\n",
        "| 1 | 1학년 🌱 | 디지털콘텐츠이해, 어드벤처디자인, 프로그래밍언어론 |\n",
        "| 2 | 2학년 ☘ | 영상제작의이해, 컴퓨터그래픽1, 3D애니메이션1 |\n",
        "| 3 | 3학년 🍀 | 모션그래픽, 영상특수효과, 모바일컨텐츠제작 |\n",
        "| 4 | 4학년 🌻 | VJ영상프로젝트, 모션그래픽프로젝트, 특수영상프로젝트 |"
      ],
      "metadata": {
        "id": "f9PRgI_7KTWb"
      }
    }
  ]
}