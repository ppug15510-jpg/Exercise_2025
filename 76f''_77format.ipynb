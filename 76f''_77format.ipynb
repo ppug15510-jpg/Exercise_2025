{
  "nbformat": 4,
  "nbformat_minor": 0,
  "metadata": {
    "colab": {
      "provenance": [],
      "authorship_tag": "ABX9TyPEyC/froNY35+8zzBKOurp",
      "include_colab_link": true
    },
    "kernelspec": {
      "name": "python3",
      "display_name": "Python 3"
    },
    "language_info": {
      "name": "python"
    }
  },
  "cells": [
    {
      "cell_type": "markdown",
      "metadata": {
        "id": "view-in-github",
        "colab_type": "text"
      },
      "source": [
        "<a href=\"https://colab.research.google.com/github/ppug15510-jpg/Exercise_2025/blob/main/76f''_77format.ipynb\" target=\"_parent\"><img src=\"https://colab.research.google.com/assets/colab-badge.svg\" alt=\"Open In Colab\"/></a>"
      ]
    },
    {
      "cell_type": "code",
      "execution_count": 1,
      "metadata": {
        "colab": {
          "base_uri": "https://localhost:8080/"
        },
        "id": "xRl32YmyBKaY",
        "outputId": "519966be-23dc-440d-d125-fe0061910a6f"
      },
      "outputs": [
        {
          "output_type": "stream",
          "name": "stdout",
          "text": [
            "원주율의 근사값은 3.141592입니다.\n"
          ]
        }
      ],
      "source": [
        "#076 문자열 포맷팅 방법1: f' '\n",
        "title = '원주율'\n",
        "pi = 3.141592\n",
        "print(f'{title}의 근사값은 {pi}입니다.')"
      ]
    },
    {
      "cell_type": "code",
      "source": [
        "print(f'{title}의 근사값은 {pi:.2f}입니다.')"
      ],
      "metadata": {
        "colab": {
          "base_uri": "https://localhost:8080/"
        },
        "id": "gZihADm3B5tw",
        "outputId": "5ca40737-bd55-467e-fd65-6835aa89031c"
      },
      "execution_count": 3,
      "outputs": [
        {
          "output_type": "stream",
          "name": "stdout",
          "text": [
            "원주율의 근사값은 3.14입니다.\n"
          ]
        }
      ]
    },
    {
      "cell_type": "code",
      "source": [
        "city = '서울'\n",
        "population = 8789911\n",
        "print(f'{city}: {population:,d} 명')"
      ],
      "metadata": {
        "colab": {
          "base_uri": "https://localhost:8080/"
        },
        "id": "SVDK-ksCCNXO",
        "outputId": "92f7991b-c07f-4c04-c77e-83d132475338"
      },
      "execution_count": 6,
      "outputs": [
        {
          "output_type": "stream",
          "name": "stdout",
          "text": [
            "서울: 8,789,911 명\n"
          ]
        }
      ]
    },
    {
      "cell_type": "code",
      "source": [
        "print(f'{city}: {population=:,d} 명')"
      ],
      "metadata": {
        "colab": {
          "base_uri": "https://localhost:8080/"
        },
        "id": "ObqPn0jdCrmm",
        "outputId": "d0ed46ec-3f46-4a20-ce95-1353f5367724"
      },
      "execution_count": 8,
      "outputs": [
        {
          "output_type": "stream",
          "name": "stdout",
          "text": [
            "서울: population=8,789,911 명\n"
          ]
        }
      ]
    },
    {
      "cell_type": "code",
      "source": [
        "#077 문자열 포맷팅 방법2: str.format()\n",
        "pi = 3.141592\n",
        "text = '{}의 근사값은 {} 입니다.'.format('원주율',pi)\n",
        "print(text)"
      ],
      "metadata": {
        "colab": {
          "base_uri": "https://localhost:8080/"
        },
        "id": "Rb39lLecC6J3",
        "outputId": "2a0e9f3f-8ea3-4715-b0bf-d4a7a15ff1b5"
      },
      "execution_count": 9,
      "outputs": [
        {
          "output_type": "stream",
          "name": "stdout",
          "text": [
            "원주율의 근사값은 3.141592 입니다.\n"
          ]
        }
      ]
    },
    {
      "cell_type": "code",
      "source": [
        "print('{}의 근사값은 {:.2f} 입니다.'.format('원주율',pi))"
      ],
      "metadata": {
        "colab": {
          "base_uri": "https://localhost:8080/"
        },
        "id": "oqg7lBf6DTjY",
        "outputId": "d8ce0bff-81e7-4b14-b603-0e5a3d8c3478"
      },
      "execution_count": 10,
      "outputs": [
        {
          "output_type": "stream",
          "name": "stdout",
          "text": [
            "원주율의 근사값은 3.14 입니다.\n"
          ]
        }
      ]
    },
    {
      "cell_type": "code",
      "source": [
        "popluation = 8789911\n",
        "text = '{}: {:,d} 명'.format('서울',population)\n",
        "print(text)"
      ],
      "metadata": {
        "colab": {
          "base_uri": "https://localhost:8080/"
        },
        "id": "4uC3FoOODjzF",
        "outputId": "fc67f855-d878-43ae-8273-3268002254d1"
      },
      "execution_count": 12,
      "outputs": [
        {
          "output_type": "stream",
          "name": "stdout",
          "text": [
            "서울: 8,789,911 명\n"
          ]
        }
      ]
    }
  ]
}