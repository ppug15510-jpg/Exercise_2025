{
  "nbformat": 4,
  "nbformat_minor": 0,
  "metadata": {
    "colab": {
      "provenance": [],
      "authorship_tag": "ABX9TyPU1etF8EPWMw9VynZjSdOh",
      "include_colab_link": true
    },
    "kernelspec": {
      "name": "python3",
      "display_name": "Python 3"
    },
    "language_info": {
      "name": "python"
    }
  },
  "cells": [
    {
      "cell_type": "markdown",
      "metadata": {
        "id": "view-in-github",
        "colab_type": "text"
      },
      "source": [
        "<a href=\"https://colab.research.google.com/github/ppug15510-jpg/Exercise_2025/blob/main/66sort_67shuffle.ipynb\" target=\"_parent\"><img src=\"https://colab.research.google.com/assets/colab-badge.svg\" alt=\"Open In Colab\"/></a>"
      ]
    },
    {
      "cell_type": "code",
      "execution_count": 1,
      "metadata": {
        "colab": {
          "base_uri": "https://localhost:8080/"
        },
        "id": "8xsuwhYME2RG",
        "outputId": "12afad77-e066-4b00-f9a6-72c7b358757e"
      },
      "outputs": [
        {
          "output_type": "stream",
          "name": "stdout",
          "text": [
            "['Aemy', 'Bob', 'Kelly', 'Mary', 'Michale', 'Sams', 'Tom']\n"
          ]
        }
      ],
      "source": [
        "#066 리스트 요소 정렬: list.sort()\n",
        "nameList = ['Mary','Sams','Aemy','Tom','Michale','Bob','Kelly']\n",
        "nameList.sort()\n",
        "print(nameList)"
      ]
    },
    {
      "cell_type": "code",
      "source": [
        "nameList = ['Mary','Sams','Aemy','Tom','Michale','Bob','Kelly']\n",
        "nameList.sort(reverse=True)\n",
        "print(nameList)"
      ],
      "metadata": {
        "colab": {
          "base_uri": "https://localhost:8080/"
        },
        "id": "xiOpGM9Sy0lu",
        "outputId": "082f880e-cf24-4ba4-fafa-e5f21798467c"
      },
      "execution_count": 2,
      "outputs": [
        {
          "output_type": "stream",
          "name": "stdout",
          "text": [
            "['Tom', 'Sams', 'Michale', 'Mary', 'Kelly', 'Bob', 'Aemy']\n"
          ]
        }
      ]
    },
    {
      "cell_type": "code",
      "source": [
        "#067 리스트 요소 무작위로 섞기: random.shuffle()\n",
        "import random\n",
        "numList = list(range(1, 11))\n",
        "random.shuffle(numList)\n",
        "print(numList)"
      ],
      "metadata": {
        "colab": {
          "base_uri": "https://localhost:8080/"
        },
        "id": "y13Ene7zy_tl",
        "outputId": "c482c327-041d-489c-8585-515f0ffdb0d5"
      },
      "execution_count": 3,
      "outputs": [
        {
          "output_type": "stream",
          "name": "stdout",
          "text": [
            "[7, 8, 9, 5, 2, 1, 10, 3, 4, 6]\n"
          ]
        }
      ]
    },
    {
      "cell_type": "code",
      "source": [
        "numList = list(range(1, 11))\n",
        "copied = numList.copy()\n",
        "random.shuffle(copied)\n",
        "print(f'numList:{numList}')\n",
        "print(f'copied:{copied}')"
      ],
      "metadata": {
        "colab": {
          "base_uri": "https://localhost:8080/"
        },
        "id": "nXJQ52kJzYFb",
        "outputId": "0bb3d174-24aa-4ed3-bf90-d4b04632f413"
      },
      "execution_count": 5,
      "outputs": [
        {
          "output_type": "stream",
          "name": "stdout",
          "text": [
            "numList:[1, 2, 3, 4, 5, 6, 7, 8, 9, 10]\n",
            "copied:[6, 2, 10, 4, 8, 5, 7, 1, 9, 3]\n"
          ]
        }
      ]
    }
  ]
}