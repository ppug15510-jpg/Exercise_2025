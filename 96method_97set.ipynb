{
  "nbformat": 4,
  "nbformat_minor": 0,
  "metadata": {
    "colab": {
      "provenance": [],
      "authorship_tag": "ABX9TyN9GWT4XZ1xCjkf6WmIXrPC",
      "include_colab_link": true
    },
    "kernelspec": {
      "name": "python3",
      "display_name": "Python 3"
    },
    "language_info": {
      "name": "python"
    }
  },
  "cells": [
    {
      "cell_type": "markdown",
      "metadata": {
        "id": "view-in-github",
        "colab_type": "text"
      },
      "source": [
        "<a href=\"https://colab.research.google.com/github/ppug15510-jpg/Exercise_2025/blob/main/96method_97set.ipynb\" target=\"_parent\"><img src=\"https://colab.research.google.com/assets/colab-badge.svg\" alt=\"Open In Colab\"/></a>"
      ]
    },
    {
      "cell_type": "code",
      "execution_count": 1,
      "metadata": {
        "colab": {
          "base_uri": "https://localhost:8080/"
        },
        "id": "FtWgp4L0ULzJ",
        "outputId": "4de1b193-9d0a-455f-f48c-715ee7eee040"
      },
      "outputs": [
        {
          "output_type": "stream",
          "name": "stdout",
          "text": [
            "b'ABcdef'\n"
          ]
        }
      ],
      "source": [
        "#096 바이트 문자열 주요 메서드들\n",
        "bytesData = b'abcdef'\n",
        "data = bytesData.replace(b'ab',b'AB')\n",
        "print(data)"
      ]
    },
    {
      "cell_type": "code",
      "source": [
        "bytesData = b'abcdefabcdef'\n",
        "idx1 = bytesData.find(b'e')\n",
        "idx2 = bytesData.find(b'e', idx1+1)\n",
        "print(idx1, idx2)"
      ],
      "metadata": {
        "colab": {
          "base_uri": "https://localhost:8080/"
        },
        "id": "yA2d7U9OVzrC",
        "outputId": "ad6f2bd7-e07f-4cff-b7eb-a428b8a5c569"
      },
      "execution_count": 3,
      "outputs": [
        {
          "output_type": "stream",
          "name": "stdout",
          "text": [
            "4 10\n"
          ]
        }
      ]
    },
    {
      "cell_type": "code",
      "source": [
        "bytesData = b'  abcdef  '\n",
        "bytesData = bytesData.strip()\n",
        "print(bytesData)"
      ],
      "metadata": {
        "colab": {
          "base_uri": "https://localhost:8080/"
        },
        "id": "JyrtacQ-WlEt",
        "outputId": "eb4fdf52-ba71-4052-962f-8b65b043a392"
      },
      "execution_count": 4,
      "outputs": [
        {
          "output_type": "stream",
          "name": "stdout",
          "text": [
            "b'abcdef'\n"
          ]
        }
      ]
    },
    {
      "cell_type": "code",
      "source": [
        "#097 set 자료 이해하기\n",
        "setData = {'사과','배','사과','수박','오렌지'}\n",
        "print(setData)"
      ],
      "metadata": {
        "colab": {
          "base_uri": "https://localhost:8080/"
        },
        "id": "k0XjzJPmW0rg",
        "outputId": "957fcd0c-d98a-45f6-e914-7b719242e2f3"
      },
      "execution_count": 5,
      "outputs": [
        {
          "output_type": "stream",
          "name": "stdout",
          "text": [
            "{'오렌지', '수박', '사과', '배'}\n"
          ]
        }
      ]
    },
    {
      "cell_type": "code",
      "source": [
        "print(setData) #한 번 더 호출"
      ],
      "metadata": {
        "colab": {
          "base_uri": "https://localhost:8080/"
        },
        "id": "HFy1wzmmXB18",
        "outputId": "91a3b416-1096-40b5-cc76-993ae2a53a72"
      },
      "execution_count": 6,
      "outputs": [
        {
          "output_type": "stream",
          "name": "stdout",
          "text": [
            "{'오렌지', '수박', '사과', '배'}\n"
          ]
        }
      ]
    },
    {
      "cell_type": "code",
      "source": [
        "strData = 'abcabccdef'\n",
        "setData = set(strData)\n",
        "print(setData)"
      ],
      "metadata": {
        "colab": {
          "base_uri": "https://localhost:8080/"
        },
        "id": "2UjgA9d6XMFY",
        "outputId": "a6a95f53-09d0-436c-847c-599d98295a38"
      },
      "execution_count": 7,
      "outputs": [
        {
          "output_type": "stream",
          "name": "stdout",
          "text": [
            "{'d', 'b', 'e', 'f', 'c', 'a'}\n"
          ]
        }
      ]
    },
    {
      "cell_type": "code",
      "source": [
        "fruits = ('사과','배','수박','배','사과','오렌지')\n",
        "setData = set(fruits)\n",
        "print(setData)"
      ],
      "metadata": {
        "colab": {
          "base_uri": "https://localhost:8080/"
        },
        "id": "Jor7u_HoXd7R",
        "outputId": "729dd7b6-a2e0-406d-8b77-9d9983486ddc"
      },
      "execution_count": 8,
      "outputs": [
        {
          "output_type": "stream",
          "name": "stdout",
          "text": [
            "{'오렌지', '수박', '사과', '배'}\n"
          ]
        }
      ]
    }
  ]
}