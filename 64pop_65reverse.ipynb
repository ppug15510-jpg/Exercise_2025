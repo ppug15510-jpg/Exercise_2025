{
  "nbformat": 4,
  "nbformat_minor": 0,
  "metadata": {
    "colab": {
      "provenance": [],
      "authorship_tag": "ABX9TyPtpdU6AqjGxZi8eVAtj6Wu",
      "include_colab_link": true
    },
    "kernelspec": {
      "name": "python3",
      "display_name": "Python 3"
    },
    "language_info": {
      "name": "python"
    }
  },
  "cells": [
    {
      "cell_type": "markdown",
      "metadata": {
        "id": "view-in-github",
        "colab_type": "text"
      },
      "source": [
        "<a href=\"https://colab.research.google.com/github/ppug15510-jpg/Exercise_2025/blob/main/64pop_65reverse.ipynb\" target=\"_parent\"><img src=\"https://colab.research.google.com/assets/colab-badge.svg\" alt=\"Open In Colab\"/></a>"
      ]
    },
    {
      "cell_type": "code",
      "execution_count": 1,
      "metadata": {
        "colab": {
          "base_uri": "https://localhost:8080/"
        },
        "id": "yBhNeoLnyNjd",
        "outputId": "f6ebb4cb-dcc1-4dc9-f0f1-9a79460786f6"
      },
      "outputs": [
        {
          "output_type": "stream",
          "name": "stdout",
          "text": [
            "pop()으로 추출된 값:43, numbers = [14, 5, 18, 45, 10]\n",
            "pop()으로 추출된 값:10, numbers = [14, 5, 18, 45]\n",
            "pop()으로 추출된 값:45, numbers = [14, 5, 18]\n",
            "pop()으로 추출된 값:18, numbers = [14, 5]\n",
            "pop()으로 추출된 값:5, numbers = [14]\n",
            "pop()으로 추출된 값:14, numbers = []\n"
          ]
        }
      ],
      "source": [
        "#064 리스트에서 특정 위치 요소 추출 후 삭제: list.pop()\n",
        "numbers = [14,5,18,45,10,43]\n",
        "for _ in range(len(numbers)):\n",
        "  ret = numbers.pop()\n",
        "  print(f'pop()으로 추출된 값:{ret}, numbers = {numbers}')"
      ]
    },
    {
      "cell_type": "code",
      "source": [
        "numbers = [14,5,18,45,10,43]\n",
        "ret = numbers.pop(3)\n",
        "print(f'pop()으로 추출된 값:{ret}, numbers = {numbers}')"
      ],
      "metadata": {
        "colab": {
          "base_uri": "https://localhost:8080/"
        },
        "id": "Nu4MdwCazT5n",
        "outputId": "feca2be1-09e3-43a4-d776-53b230705f44"
      },
      "execution_count": 2,
      "outputs": [
        {
          "output_type": "stream",
          "name": "stdout",
          "text": [
            "pop()으로 추출된 값:45, numbers = [14, 5, 18, 10, 43]\n"
          ]
        }
      ]
    },
    {
      "cell_type": "code",
      "source": [
        "#065 리스트 요소를 역순으로 만들기: list.reverse()\n",
        "numbers = [1,2,3,4,5]\n",
        "ret = reversed(numbers)\n",
        "print(list(ret))\n",
        "print(numbers)"
      ],
      "metadata": {
        "colab": {
          "base_uri": "https://localhost:8080/"
        },
        "id": "wgyRLSiWz7YG",
        "outputId": "7664c5f7-06b4-4d38-9ad5-326f3f5aba19"
      },
      "execution_count": 3,
      "outputs": [
        {
          "output_type": "stream",
          "name": "stdout",
          "text": [
            "[5, 4, 3, 2, 1]\n",
            "[1, 2, 3, 4, 5]\n"
          ]
        }
      ]
    },
    {
      "cell_type": "code",
      "source": [
        "numbers = [1,2,3,4,5]\n",
        "numbers.reverse()\n",
        "print(numbers)"
      ],
      "metadata": {
        "colab": {
          "base_uri": "https://localhost:8080/"
        },
        "id": "uxQ9lYCl0a1P",
        "outputId": "1b396189-6c19-40d4-f936-dc033a9cd0f0"
      },
      "execution_count": 4,
      "outputs": [
        {
          "output_type": "stream",
          "name": "stdout",
          "text": [
            "[5, 4, 3, 2, 1]\n"
          ]
        }
      ]
    }
  ]
}