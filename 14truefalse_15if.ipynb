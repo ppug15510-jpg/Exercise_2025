{
  "nbformat": 4,
  "nbformat_minor": 0,
  "metadata": {
    "colab": {
      "provenance": [],
      "authorship_tag": "ABX9TyNoquzC60A5COPDk6pcovZs",
      "include_colab_link": true
    },
    "kernelspec": {
      "name": "python3",
      "display_name": "Python 3"
    },
    "language_info": {
      "name": "python"
    }
  },
  "cells": [
    {
      "cell_type": "markdown",
      "metadata": {
        "id": "view-in-github",
        "colab_type": "text"
      },
      "source": [
        "<a href=\"https://colab.research.google.com/github/ppug15510-jpg/Exercise_2025/blob/main/14truefalse_15if.ipynb\" target=\"_parent\"><img src=\"https://colab.research.google.com/assets/colab-badge.svg\" alt=\"Open In Colab\"/></a>"
      ]
    },
    {
      "cell_type": "code",
      "execution_count": 1,
      "metadata": {
        "colab": {
          "base_uri": "https://localhost:8080/"
        },
        "id": "NvGuLZU2aud9",
        "outputId": "e21f6a45-dc91-4c16-bd66-84d820d2a41e"
      },
      "outputs": [
        {
          "output_type": "stream",
          "name": "stdout",
          "text": [
            "True\n",
            "False\n"
          ]
        }
      ],
      "source": [
        "#014 true, false\n",
        "flag1 = True\n",
        "flag2 = False\n",
        "print(flag1 == 1)\n",
        "print(flag2 != 0)"
      ]
    },
    {
      "cell_type": "code",
      "source": [
        "while True:\n",
        "  실행 코드\n",
        "  if 조건 == True:\n",
        "    break"
      ],
      "metadata": {
        "id": "r9pL2AV9njy3"
      },
      "execution_count": null,
      "outputs": []
    },
    {
      "cell_type": "code",
      "source": [
        "#015 if문: if~elif~else\n",
        "x = 1\n",
        "y = 2\n",
        "if x<y:\n",
        "  print('x가 y보다 작습니다.')\n",
        "else:\n",
        "  print('x가 y보다 작지 않습니다.')"
      ],
      "metadata": {
        "colab": {
          "base_uri": "https://localhost:8080/"
        },
        "id": "OKCLOifZn5sx",
        "outputId": "887fdc7d-3a22-48c0-c4e4-ed36154e06bb"
      },
      "execution_count": 2,
      "outputs": [
        {
          "output_type": "stream",
          "name": "stdout",
          "text": [
            "x가 y보다 작습니다.\n"
          ]
        }
      ]
    },
    {
      "cell_type": "code",
      "source": [
        "x = 1\n",
        "y = 2\n",
        "if x<y:\n",
        "  print('x가 y보다 작습니다.')\n",
        "elif x>y:\n",
        "  print('x가 y보다 큽니다.')\n",
        "else:\n",
        "  print('x와 y가 같습니다.')"
      ],
      "metadata": {
        "colab": {
          "base_uri": "https://localhost:8080/"
        },
        "id": "oqEwqa2NoxlF",
        "outputId": "8e518c89-a54a-4275-d035-43e295ddc662"
      },
      "execution_count": 3,
      "outputs": [
        {
          "output_type": "stream",
          "name": "stdout",
          "text": [
            "x가 y보다 작습니다.\n"
          ]
        }
      ]
    }
  ]
}