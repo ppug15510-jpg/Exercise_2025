{
  "nbformat": 4,
  "nbformat_minor": 0,
  "metadata": {
    "colab": {
      "provenance": [],
      "authorship_tag": "ABX9TyMIu9Sjc20Oss0TvOZXEz1b",
      "include_colab_link": true
    },
    "kernelspec": {
      "name": "python3",
      "display_name": "Python 3"
    },
    "language_info": {
      "name": "python"
    }
  },
  "cells": [
    {
      "cell_type": "markdown",
      "metadata": {
        "id": "view-in-github",
        "colab_type": "text"
      },
      "source": [
        "<a href=\"https://colab.research.google.com/github/ppug15510-jpg/Exercise_2025/blob/main/108dkeyval_109dsetdefault.ipynb\" target=\"_parent\"><img src=\"https://colab.research.google.com/assets/colab-badge.svg\" alt=\"Open In Colab\"/></a>"
      ]
    },
    {
      "cell_type": "code",
      "execution_count": 1,
      "metadata": {
        "colab": {
          "base_uri": "https://localhost:8080/"
        },
        "id": "dQ4uhFP_Vytn",
        "outputId": "46376812-3936-485f-eefc-c87a2031e25c"
      },
      "outputs": [
        {
          "output_type": "stream",
          "name": "stdout",
          "text": [
            "{'Mary': 10999}\n",
            "{'Mary': 10999, 'Cris': 2111}\n",
            "{'Mary': 10999, 'Cris': 2111, 'Aimy': 9778}\n",
            "{'Mary': 10999, 'Cris': 2111, 'Aimy': 9778, 'Tom': 20245}\n",
            "{'Mary': 10999, 'Cris': 2111, 'Aimy': 9778, 'Tom': 20245, 'Bob': 27115}\n"
          ]
        }
      ],
      "source": [
        "#108 딕셔너리에 요소 추가하기: d[key]=val\n",
        "nameList = ['Mary','Cris','Aimy','Tom','Bob']\n",
        "population = [10999,2111,9778,20245,27115]\n",
        "names = {} #빈 딕셔너리 정의\n",
        "for k, v in zip(nameList,population):\n",
        "  names[k] = v\n",
        "  print(names)"
      ]
    },
    {
      "cell_type": "code",
      "source": [
        "names['Mary'] = 20000\n",
        "print(names)"
      ],
      "metadata": {
        "colab": {
          "base_uri": "https://localhost:8080/"
        },
        "id": "Loyf-iRNX4vJ",
        "outputId": "58c130bc-4189-4138-f9c2-d1aa610ebe5f"
      },
      "execution_count": 2,
      "outputs": [
        {
          "output_type": "stream",
          "name": "stdout",
          "text": [
            "{'Mary': 20000, 'Cris': 2111, 'Aimy': 9778, 'Tom': 20245, 'Bob': 27115}\n"
          ]
        }
      ]
    },
    {
      "cell_type": "code",
      "source": [
        "#109 딕셔너리에 요소를 추가하고 값을 얻기: d.setdefault()\n",
        "names = {'Mary':10999,'Cris':2111,'Aimy':9778}\n",
        "population = names.setdefault('Sams')\n",
        "print(f'names:{names}\\npopulation: {population}')"
      ],
      "metadata": {
        "colab": {
          "base_uri": "https://localhost:8080/"
        },
        "id": "0X78LvMSYYTV",
        "outputId": "820a1f7b-8187-45ab-a85e-9f20ca06c4c4"
      },
      "execution_count": 3,
      "outputs": [
        {
          "output_type": "stream",
          "name": "stdout",
          "text": [
            "names:{'Mary': 10999, 'Cris': 2111, 'Aimy': 9778, 'Sams': None}\n",
            "population: None\n"
          ]
        }
      ]
    },
    {
      "cell_type": "code",
      "source": [
        "population = names.setdefault('Sams',100)\n",
        "print(f'names: {names}\\npopulation: {population}')"
      ],
      "metadata": {
        "colab": {
          "base_uri": "https://localhost:8080/"
        },
        "id": "8BOiVawoZKdZ",
        "outputId": "9c2b4754-e3d3-4945-bb0f-c68b04eee50b"
      },
      "execution_count": 4,
      "outputs": [
        {
          "output_type": "stream",
          "name": "stdout",
          "text": [
            "names: {'Mary': 10999, 'Cris': 2111, 'Aimy': 9778, 'Sams': None}\n",
            "population: None\n"
          ]
        }
      ]
    },
    {
      "cell_type": "code",
      "source": [
        "population = names.setdefault('Tom',1004)\n",
        "print(f'names: {names}\\npopulation: {population}')"
      ],
      "metadata": {
        "colab": {
          "base_uri": "https://localhost:8080/"
        },
        "id": "XGoRPdIfZeR6",
        "outputId": "1a9d39e2-245a-4a59-87a5-34ff3a305157"
      },
      "execution_count": 5,
      "outputs": [
        {
          "output_type": "stream",
          "name": "stdout",
          "text": [
            "names: {'Mary': 10999, 'Cris': 2111, 'Aimy': 9778, 'Sams': None, 'Tom': 1004}\n",
            "population: 1004\n"
          ]
        }
      ]
    }
  ]
}