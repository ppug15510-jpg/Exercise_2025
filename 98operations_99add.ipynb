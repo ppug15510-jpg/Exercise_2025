{
  "nbformat": 4,
  "nbformat_minor": 0,
  "metadata": {
    "colab": {
      "provenance": [],
      "authorship_tag": "ABX9TyMo+cbpV3EH7Mw4O2GPVQmS",
      "include_colab_link": true
    },
    "kernelspec": {
      "name": "python3",
      "display_name": "Python 3"
    },
    "language_info": {
      "name": "python"
    }
  },
  "cells": [
    {
      "cell_type": "markdown",
      "metadata": {
        "id": "view-in-github",
        "colab_type": "text"
      },
      "source": [
        "<a href=\"https://colab.research.google.com/github/ppug15510-jpg/Exercise_2025/blob/main/98operations_99add.ipynb\" target=\"_parent\"><img src=\"https://colab.research.google.com/assets/colab-badge.svg\" alt=\"Open In Colab\"/></a>"
      ]
    },
    {
      "cell_type": "code",
      "execution_count": 1,
      "metadata": {
        "id": "tBjTXvOcIjHU"
      },
      "outputs": [],
      "source": [
        "#098 set 연산: |,&,-,^\n",
        "set1 = set('abradacabra')\n",
        "set2 = set('abbreviation')"
      ]
    },
    {
      "cell_type": "code",
      "source": [
        "ret = set1|set2\n",
        "print(ret)"
      ],
      "metadata": {
        "colab": {
          "base_uri": "https://localhost:8080/"
        },
        "id": "65vi3OgmJV_F",
        "outputId": "50cb1f43-4afa-49db-b66c-d0da11421e91"
      },
      "execution_count": 2,
      "outputs": [
        {
          "output_type": "stream",
          "name": "stdout",
          "text": [
            "{'v', 't', 'i', 'o', 'r', 'c', 'a', 'n', 'b', 'e', 'd'}\n"
          ]
        }
      ]
    },
    {
      "cell_type": "code",
      "source": [
        "ret = set1&set2\n",
        "print(ret)"
      ],
      "metadata": {
        "colab": {
          "base_uri": "https://localhost:8080/"
        },
        "id": "V8rdRyyDJpEA",
        "outputId": "356c12f4-578a-495e-fe93-8d6c3ca55b71"
      },
      "execution_count": 3,
      "outputs": [
        {
          "output_type": "stream",
          "name": "stdout",
          "text": [
            "{'a', 'b', 'r'}\n"
          ]
        }
      ]
    },
    {
      "cell_type": "code",
      "source": [
        "ret = set1 - set2\n",
        "print(ret)"
      ],
      "metadata": {
        "colab": {
          "base_uri": "https://localhost:8080/"
        },
        "id": "BTPPyhwtJwwA",
        "outputId": "a80d5775-20e6-4487-fc77-8aedab40e69e"
      },
      "execution_count": 5,
      "outputs": [
        {
          "output_type": "stream",
          "name": "stdout",
          "text": [
            "{'c', 'd'}\n"
          ]
        }
      ]
    },
    {
      "cell_type": "code",
      "source": [
        "ret = set1^set2\n",
        "print(ret)"
      ],
      "metadata": {
        "colab": {
          "base_uri": "https://localhost:8080/"
        },
        "id": "FrDLSVXtJ2J3",
        "outputId": "7043c0e5-f17c-4d1a-fcdf-03e1565b5942"
      },
      "execution_count": 6,
      "outputs": [
        {
          "output_type": "stream",
          "name": "stdout",
          "text": [
            "{'v', 't', 'i', 'o', 'c', 'n', 'e', 'd'}\n"
          ]
        }
      ]
    },
    {
      "cell_type": "code",
      "source": [
        "ret = set1 <= set2\n",
        "print(ret)"
      ],
      "metadata": {
        "colab": {
          "base_uri": "https://localhost:8080/"
        },
        "id": "ro66PEqFJ8Rz",
        "outputId": "38906af5-198d-441b-8a40-f976334150f3"
      },
      "execution_count": 7,
      "outputs": [
        {
          "output_type": "stream",
          "name": "stdout",
          "text": [
            "False\n"
          ]
        }
      ]
    },
    {
      "cell_type": "code",
      "source": [
        "set1 =| set2 #set1|set2의 결과를 set1으로 업데이트\n",
        "set1 &= set2 #set1 & set2의 결과를 set1으로 업데이트\n",
        "set1 -= set2 #set1 - set2의 결과를 set1으로 업데이트\n",
        "set1 ^= set2 #set1 ^ set2의 결과를 set1으로 업데이트"
      ],
      "metadata": {
        "id": "eEPyonW8KF4U"
      },
      "execution_count": null,
      "outputs": []
    },
    {
      "cell_type": "code",
      "source": [
        "#099 set에 요소 추가: set.add()\n",
        "fruits = {'사과','배','오렌지','수박'}\n",
        "fruits.add('딸기')\n",
        "print(fruits)"
      ],
      "metadata": {
        "colab": {
          "base_uri": "https://localhost:8080/"
        },
        "id": "dQDxsY5QKvPB",
        "outputId": "8dd88adc-3aae-4c32-ec5d-62d3a6c70eb6"
      },
      "execution_count": 8,
      "outputs": [
        {
          "output_type": "stream",
          "name": "stdout",
          "text": [
            "{'오렌지', '사과', '딸기', '수박', '배'}\n"
          ]
        }
      ]
    },
    {
      "cell_type": "code",
      "source": [
        "fruits.add('배')\n",
        "print(fruits)"
      ],
      "metadata": {
        "colab": {
          "base_uri": "https://localhost:8080/"
        },
        "id": "wv1lloMsLEIc",
        "outputId": "8bdb4cd3-bf6b-4d80-e4c4-c46d46f4017e"
      },
      "execution_count": 9,
      "outputs": [
        {
          "output_type": "stream",
          "name": "stdout",
          "text": [
            "{'오렌지', '사과', '딸기', '수박', '배'}\n"
          ]
        }
      ]
    }
  ]
}